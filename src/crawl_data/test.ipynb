{
 "cells": [
  {
   "cell_type": "code",
   "execution_count": 91,
   "metadata": {},
   "outputs": [],
   "source": [
    "import requests\n",
    "from bs4 import BeautifulSoup\n",
    "from tqdm import tqdm"
   ]
  },
  {
   "cell_type": "code",
   "execution_count": 92,
   "metadata": {},
   "outputs": [
    {
     "name": "stderr",
     "output_type": "stream",
     "text": [
      "100%|██████████| 320/320 [04:03<00:00,  1.31it/s]\n"
     ]
    }
   ],
   "source": [
    "URL_prefix = \"https://tailieumoi.vn/danh-sach-cau-hoi?lop=5&mon=1&page=\"\n",
    "links = []\n",
    "for i in tqdm(range(1, 321)):\n",
    "    page = requests.get(URL_prefix + str(i))\n",
    "    soup = BeautifulSoup(page.content, \"html.parser\")\n",
    "    results = soup.find_all(\"a\", {\"class\": \"cl3 fs-18\"}, href=True)\n",
    "    for result in results:\n",
    "        links.append(result[\"href\"])\n",
    "        \n",
    "# open file in write mode\n",
    "with open(\"/home/vinhnq29/Public/zalo_challenge_2023/data/tailieumoi/toan5_links.txt\", 'a') as fp:\n",
    "    for link in links:\n",
    "        # write each item on a new line\n",
    "        fp.write(\"%s\\n\" % link)\n",
    "    print('Done')"
   ]
  },
  {
   "cell_type": "code",
   "execution_count": 95,
   "metadata": {},
   "outputs": [
    {
     "name": "stderr",
     "output_type": "stream",
     "text": [
      "100%|██████████| 183/183 [01:58<00:00,  1.54it/s]"
     ]
    },
    {
     "name": "stdout",
     "output_type": "stream",
     "text": [
      "Done\n"
     ]
    },
    {
     "name": "stderr",
     "output_type": "stream",
     "text": [
      "\n"
     ]
    }
   ],
   "source": [
    "URL_prefix = \"https://tailieumoi.vn/danh-sach-cau-hoi?lop=4&mon=1&page=\"\n",
    "links = []\n",
    "for i in tqdm(range(1, 184)):\n",
    "    page = requests.get(URL_prefix + str(i))\n",
    "    soup = BeautifulSoup(page.content, \"html.parser\")\n",
    "    results = soup.find_all(\"a\", {\"class\": \"cl3 fs-18\"}, href=True)\n",
    "    for result in results:\n",
    "        links.append(result[\"href\"])\n",
    "        \n",
    "# open file in write mode\n",
    "with open(\"/home/vinhnq29/Public/zalo_challenge_2023/data/tailieumoi/toan4_links.txt\", 'a') as fp:\n",
    "    for link in links:\n",
    "        # write each item on a new line\n",
    "        fp.write(\"%s\\n\" % link)\n",
    "    print('Done')"
   ]
  },
  {
   "cell_type": "code",
   "execution_count": 96,
   "metadata": {},
   "outputs": [
    {
     "name": "stderr",
     "output_type": "stream",
     "text": [
      "100%|██████████| 115/115 [01:09<00:00,  1.65it/s]"
     ]
    },
    {
     "name": "stdout",
     "output_type": "stream",
     "text": [
      "Done\n"
     ]
    },
    {
     "name": "stderr",
     "output_type": "stream",
     "text": [
      "\n"
     ]
    }
   ],
   "source": [
    "URL_prefix = \"https://tailieumoi.vn/danh-sach-cau-hoi?lop=3&mon=1&page=\"\n",
    "links = []\n",
    "for i in tqdm(range(1, 116)):\n",
    "    page = requests.get(URL_prefix + str(i))\n",
    "    soup = BeautifulSoup(page.content, \"html.parser\")\n",
    "    results = soup.find_all(\"a\", {\"class\": \"cl3 fs-18\"}, href=True)\n",
    "    for result in results:\n",
    "        links.append(result[\"href\"])\n",
    "        \n",
    "# open file in write mode\n",
    "with open(\"/home/vinhnq29/Public/zalo_challenge_2023/data/tailieumoi/toan3_links.txt\", 'a') as fp:\n",
    "    for link in links:\n",
    "        # write each item on a new line\n",
    "        fp.write(\"%s\\n\" % link)\n",
    "    print('Done')"
   ]
  },
  {
   "cell_type": "code",
   "execution_count": null,
   "metadata": {},
   "outputs": [],
   "source": []
  },
  {
   "cell_type": "code",
   "execution_count": 188,
   "metadata": {},
   "outputs": [],
   "source": [
    "import json\n",
    "import re\n",
    "\n",
    "close_tag_patterns = [\"</span>\", \"</div>\", \"</p>\", \"</h[\\d]>\"]\n",
    "open_tag_patterns = [\"<div.*?>\", \"<span.*?>\", \"<p.*?>\", \"<h.*?>\"]\n",
    "CLOSE_TAG = re.compile(\"|\".join(close_tag_patterns))\n",
    "OPEN_TAG = re.compile(\"|\".join(open_tag_patterns))\n",
    "\n",
    "def cleanhtml(raw_html: str):\n",
    "    # text = DIV_PATTERN.sub(\"\", raw_html)\n",
    "    # text = SPAN_PATTERN.sub(\"\", text)\n",
    "    # text = P_PATTERN.sub(\"\", text)\n",
    "    # text = H_PATTERN.sub(\"\", text)\n",
    "    text = CLOSE_TAG.sub(\"\", raw_html)\n",
    "    text = OPEN_TAG.sub(\"\", text)\n",
    "    return text\n",
    "\n",
    "def main():\n",
    "    math_5_links_file = open(\"/home/vinhnq29/Public/zalo_challenge_2023/data/tailieumoi/toan5_links.txt\", \"r\")\n",
    "    math_5_questions_file = open(\"/home/vinhnq29/Public/zalo_challenge_2023/data/tailieumoi/toan5_questions.jsonl\", \"a\")\n",
    "    for link in tqdm(math_5_links_file):\n",
    "        page = requests.get(link.strip())\n",
    "        soup = BeautifulSoup(page.content, \"html.parser\")\n",
    "        choices = soup.find_all(\"div\", {\"class\": \"answer-content\"})\n",
    "        question = soup.find(\"div\", {\"class\": \"question-content\"})\n",
    "        answer = soup.find(\"div\", {\"class\": \"question-reason\"})\n",
    "        if len(choices)==0 or not question or not answer:\n",
    "            continue\n",
    "        choices = list(map(lambda t: t.prettify(), choices))\n",
    "        question = question.prettify()\n",
    "        answer = answer.prettify()\n",
    "        choices = \"########\".join(choices)\n",
    "        if \"<img src=\" in question or \"img src=\" in answer or \"img src=\" in choices:\n",
    "            continue\n",
    "        choices = cleanhtml(choices).strip()\n",
    "        question = cleanhtml(question).strip()\n",
    "        answer = cleanhtml(answer).strip()\n",
    "        d = json.dumps(\n",
    "            {\"question\": question, \"choices\": choices, \"answer\": answer}, \n",
    "            ensure_ascii=False\n",
    "        )+\"\\n\"\n",
    "        math_5_questions_file.write(d)\n",
    "        break\n",
    "\n",
    "    math_5_links_file.close()\n",
    "    math_5_questions_file.close()"
   ]
  },
  {
   "cell_type": "code",
   "execution_count": 182,
   "metadata": {},
   "outputs": [],
   "source": [
    "link = \"https://tailieumoi.vn/cau-hoi/mot-hinh-lap-phuong-co-canh-3dm-thi-dien-tich-toan-phan-cua-hinh-lap-phuong-do-la-185868.html\"\n",
    "page = requests.get(link.strip())\n",
    "soup = BeautifulSoup(page.content, \"html.parser\")\n"
   ]
  },
  {
   "cell_type": "code",
   "execution_count": 183,
   "metadata": {},
   "outputs": [],
   "source": [
    "answer = soup.find(\"div\", {\"class\": \"question-reason\"})"
   ]
  },
  {
   "cell_type": "code",
   "execution_count": 184,
   "metadata": {},
   "outputs": [
    {
     "name": "stdout",
     "output_type": "stream",
     "text": [
      "<div class=\"question-reason\">\n",
      " <h2 class=\"overflow-x-el\">\n",
      "  <div>\n",
      "   <p class=\"MsoNormal\" style=\"\">\n",
      "    <span style=\"   mso-ansi-language: EN-US;\">\n",
      "     Diện tích toàn phần của hình lập phương đó là:\n",
      "    </span>\n",
      "   </p>\n",
      "   <p class=\"MsoNormal\" style=\"\">\n",
      "    <span style=\"   mso-ansi-language: EN-US;\">\n",
      "     3 × 3 × 6 = 54 (dm\n",
      "     <sup>\n",
      "      2\n",
      "     </sup>\n",
      "     )\n",
      "    </span>\n",
      "   </p>\n",
      "   <p class=\"MsoNormal\" style=\"\">\n",
      "    <span style=\"   mso-ansi-language: EN-US;\">\n",
      "     Chọn D.\n",
      "    </span>\n",
      "   </p>\n",
      "  </div>\n",
      " </h2>\n",
      "</div>\n",
      "\n"
     ]
    }
   ],
   "source": [
    "print(answer.prettify())"
   ]
  },
  {
   "cell_type": "code",
   "execution_count": 186,
   "metadata": {},
   "outputs": [
    {
     "name": "stdout",
     "output_type": "stream",
     "text": [
      "Diện tích toàn phần của hình lập phương đó là:\n",
      "    \n",
      "   \n",
      "   \n",
      "    \n",
      "     3 × 3 × 6 = 54 (dm\n",
      "     <sup>\n",
      "      2\n",
      "     </sup>\n",
      "     )\n",
      "    \n",
      "   \n",
      "   \n",
      "    \n",
      "     Chọn D.\n"
     ]
    }
   ],
   "source": [
    "print(cleanhtml(answer.prettify()).strip())"
   ]
  },
  {
   "cell_type": "code",
   "execution_count": 160,
   "metadata": {},
   "outputs": [
    {
     "name": "stdout",
     "output_type": "stream",
     "text": [
      "<div class=\"question-content\">\n",
      " <h1 class=\"overflow-x-el\">\n",
      "  <div>\n",
      "   <span style=\"   mso-fareast- mso-fareast-theme-font: minor-latin; mso-ansi-language: EN-US; mso-fareast-language: EN-US; mso-bidi-language: AR-SA;\">\n",
      "    Một hình tròn có chu vi bằng 28,26cm thì diện tích của hình tròn là:\n",
      "   </span>\n",
      "  </div>\n",
      " </h1>\n",
      "</div>\n",
      "\n"
     ]
    }
   ],
   "source": [
    "print(questions)"
   ]
  },
  {
   "cell_type": "code",
   "execution_count": 163,
   "metadata": {},
   "outputs": [],
   "source": [
    "import re\n",
    "# as per recommendation from @freylis, compile once only\n",
    "# DIV_PATTERN = re.compile(\"<div.*?>\") \n",
    "# SPAN_PATTERN = re.compile(\"<span.*?>\")\n",
    "# P_PATTERN = re.compile(\"<p.*?>\")\n",
    "# H_PATTERN = re.compile(\"<h.*?>\")\n",
    "close_tag_patterns = [\"</span>\", \"</div>\", \"</p>\", \"</h[\\d]>\"]\n",
    "open_tag_patterns = [\"<div.*?>\", \"<span.*?>\", \"<p.*?>\", \"<h.*?>\"]\n",
    "CLOSE_TAG = re.compile(\"|\".join(close_tag_patterns))\n",
    "OPEN_TAG = re.compile(\"|\".join(open_tag_patterns))\n",
    "\n",
    "def cleanhtml(raw_html):\n",
    "    # text = DIV_PATTERN.sub(\"\", raw_html)\n",
    "    # text = SPAN_PATTERN.sub(\"\", text)\n",
    "    # text = P_PATTERN.sub(\"\", text)\n",
    "    # text = H_PATTERN.sub(\"\", text)\n",
    "    text = CLOSE_TAG.sub(\"\", raw_html)\n",
    "    text = OPEN_TAG.sub(\"\", text)\n",
    "    return text"
   ]
  },
  {
   "cell_type": "code",
   "execution_count": 166,
   "metadata": {},
   "outputs": [
    {
     "data": {
      "text/plain": [
       "'Một hình tròn có chu vi bằng 28,26cm thì diện tích của hình tròn là:'"
      ]
     },
     "execution_count": 166,
     "metadata": {},
     "output_type": "execute_result"
    }
   ],
   "source": [
    "cleanhtml(questions).strip()"
   ]
  },
  {
   "cell_type": "code",
   "execution_count": null,
   "metadata": {},
   "outputs": [],
   "source": []
  },
  {
   "cell_type": "code",
   "execution_count": null,
   "metadata": {},
   "outputs": [],
   "source": []
  },
  {
   "cell_type": "code",
   "execution_count": null,
   "metadata": {},
   "outputs": [],
   "source": []
  },
  {
   "cell_type": "code",
   "execution_count": null,
   "metadata": {},
   "outputs": [],
   "source": []
  },
  {
   "cell_type": "code",
   "execution_count": null,
   "metadata": {},
   "outputs": [],
   "source": []
  },
  {
   "cell_type": "code",
   "execution_count": null,
   "metadata": {},
   "outputs": [],
   "source": []
  },
  {
   "cell_type": "code",
   "execution_count": null,
   "metadata": {},
   "outputs": [],
   "source": []
  },
  {
   "cell_type": "code",
   "execution_count": 120,
   "metadata": {},
   "outputs": [],
   "source": [
    "results = soup.find_all(\"div\", {\"class\": \"answer-content\"})"
   ]
  },
  {
   "cell_type": "code",
   "execution_count": 145,
   "metadata": {},
   "outputs": [
    {
     "name": "stdout",
     "output_type": "stream",
     "text": [
      "<div class=\"answer-content\">\n",
      " <h2 class=\"overflow-x-el\">\n",
      "  <p>\n",
      "   A.\n",
      "   <math xmlns=\"http://www.w3.org/1998/Math/MathML\">\n",
      "    <mfrac>\n",
      "     <mn>\n",
      "      2\n",
      "     </mn>\n",
      "     <mn>\n",
      "      10\n",
      "     </mn>\n",
      "    </mfrac>\n",
      "   </math>\n",
      "  </p>\n",
      " </h2>\n",
      "</div>\n",
      "\n"
     ]
    }
   ],
   "source": [
    "print(results[0].prettify())"
   ]
  },
  {
   "cell_type": "code",
   "execution_count": 138,
   "metadata": {},
   "outputs": [
    {
     "data": {
      "text/plain": [
       "'<div class=\"answer-content\">\\n<h2 class=\"overflow-x-el\"><p>A.\\xa0<math xmlns=\"http://www.w3.org/1998/Math/MathML\"><mfrac><mn>2</mn><mn>10</mn></mfrac></math></p></h2>\\n</div>'"
      ]
     },
     "execution_count": 138,
     "metadata": {},
     "output_type": "execute_result"
    }
   ],
   "source": [
    "str(results[0])"
   ]
  },
  {
   "cell_type": "code",
   "execution_count": 134,
   "metadata": {},
   "outputs": [],
   "source": [
    "import re\n",
    "# as per recommendation from @freylis, compile once only\n",
    "DIV_PATTERN = re.compile(\"<div.*?>\") \n",
    "SPAN_PATTERN = re.compile(\"<span.*?>\")\n",
    "P_PATTERN = re.compile(\"<p.*?>\")\n",
    "H_PATTERN = re.compile(\"<h.*?>\")\n",
    "close_tags = [\"</span>\", \"</div>\", \"</p>\", \"</h2>\"]\n",
    "\n",
    "def cleanhtml(raw_html):\n",
    "    text = DIV_PATTERN.sub(\"\", raw_html)\n",
    "    text = SPAN_PATTERN.sub(\"\", text)\n",
    "    text = P_PATTERN.sub(\"\", text)\n",
    "    text = H_PATTERN.sub(\"\", text)\n",
    "    return text"
   ]
  },
  {
   "cell_type": "code",
   "execution_count": 135,
   "metadata": {},
   "outputs": [
    {
     "data": {
      "text/plain": [
       "'\\n<h2 class=\"overflow-x-el\"><p>A.\\xa0<math xmlns=\"http://www.w3.org/1998/Math/MathML\"><mfrac><mn>2</mn><mn>10</mn></mfrac></math></p></h2>\\n'"
      ]
     },
     "execution_count": 135,
     "metadata": {},
     "output_type": "execute_result"
    }
   ],
   "source": [
    "cleanhtml(str(results[0]))"
   ]
  },
  {
   "cell_type": "code",
   "execution_count": null,
   "metadata": {},
   "outputs": [],
   "source": []
  },
  {
   "cell_type": "code",
   "execution_count": 69,
   "metadata": {},
   "outputs": [],
   "source": [
    "tmp = str(results[0].div.span)"
   ]
  },
  {
   "cell_type": "code",
   "execution_count": 70,
   "metadata": {},
   "outputs": [],
   "source": [
    "import re\n",
    "\n",
    "\n",
    "close_tags = [\"</span>\", \"</div>\", \"</p>\", \"</h2>\"]\n",
    "def remove_all_close_tags(tag: str):\n",
    "    return re.sub(\"|\".join(close_tags), \"\", tag)\n",
    "pattern = re.compile(r\"<span.*\\\">|</span>\")"
   ]
  },
  {
   "cell_type": "code",
   "execution_count": 71,
   "metadata": {},
   "outputs": [],
   "source": [
    "tmp = pattern.sub('', tmp)"
   ]
  },
  {
   "cell_type": "code",
   "execution_count": 72,
   "metadata": {},
   "outputs": [],
   "source": [
    "if \"<sup>\" in tmp and \"</sup>\" in tmp:\n",
    "    tmp = tmp.replace(\"<sup>\", \"^{\")\n",
    "    tmp = tmp.replace(\"</sup>\", \"}\")"
   ]
  },
  {
   "cell_type": "code",
   "execution_count": 73,
   "metadata": {},
   "outputs": [
    {
     "name": "stdout",
     "output_type": "stream",
     "text": [
      "A. 9dm^{2}\n"
     ]
    }
   ],
   "source": [
    "print(tmp)"
   ]
  },
  {
   "cell_type": "code",
   "execution_count": 59,
   "metadata": {},
   "outputs": [
    {
     "name": "stdout",
     "output_type": "stream",
     "text": [
      "Ta có: $7dm^{2}=\\frac{7}{100}m^{2}=0,07m^{2}$. Vậy: 15m2 7dm2 = 15 m2 + 0,07 m2 = 15,07 m2. Vậy số thích hợp điền vào chố chấm là : 15,07 m2\n"
     ]
    }
   ],
   "source": [
    "print(\"Ta có: $7dm^{2}=\\\\frac{7}{100}m^{2}=0,07m^{2}$. Vậy: 15m2 7dm2 = 15 m2 + 0,07 m2 = 15,07 m2. Vậy số thích hợp điền vào chố chấm là : 15,07 m2\")"
   ]
  },
  {
   "cell_type": "code",
   "execution_count": 60,
   "metadata": {},
   "outputs": [
    {
     "data": {
      "text/plain": [
       "'A. 9dm<sup>2</sup>'"
      ]
     },
     "execution_count": 60,
     "metadata": {},
     "output_type": "execute_result"
    }
   ],
   "source": [
    "tmp"
   ]
  },
  {
   "cell_type": "code",
   "execution_count": null,
   "metadata": {},
   "outputs": [],
   "source": []
  },
  {
   "cell_type": "code",
   "execution_count": null,
   "metadata": {},
   "outputs": [],
   "source": []
  },
  {
   "cell_type": "code",
   "execution_count": null,
   "metadata": {},
   "outputs": [],
   "source": []
  },
  {
   "cell_type": "code",
   "execution_count": null,
   "metadata": {},
   "outputs": [],
   "source": []
  },
  {
   "cell_type": "code",
   "execution_count": null,
   "metadata": {},
   "outputs": [],
   "source": []
  },
  {
   "cell_type": "code",
   "execution_count": null,
   "metadata": {},
   "outputs": [],
   "source": []
  },
  {
   "cell_type": "code",
   "execution_count": null,
   "metadata": {},
   "outputs": [],
   "source": [
    "import json\n",
    "f = open(\"./\")"
   ]
  }
 ],
 "metadata": {
  "kernelspec": {
   "display_name": "zac2023",
   "language": "python",
   "name": "python3"
  },
  "language_info": {
   "codemirror_mode": {
    "name": "ipython",
    "version": 3
   },
   "file_extension": ".py",
   "mimetype": "text/x-python",
   "name": "python",
   "nbconvert_exporter": "python",
   "pygments_lexer": "ipython3",
   "version": "3.10.13"
  }
 },
 "nbformat": 4,
 "nbformat_minor": 2
}
