{
 "cells": [
  {
   "cell_type": "markdown",
   "metadata": {},
   "source": [
    "# CRAWL FROM TAILIEUMOI"
   ]
  },
  {
   "cell_type": "code",
   "execution_count": 91,
   "metadata": {},
   "outputs": [],
   "source": [
    "import requests\n",
    "from bs4 import BeautifulSoup\n",
    "from tqdm import tqdm"
   ]
  },
  {
   "cell_type": "code",
   "execution_count": 92,
   "metadata": {},
   "outputs": [
    {
     "name": "stderr",
     "output_type": "stream",
     "text": [
      "100%|██████████| 320/320 [04:03<00:00,  1.31it/s]\n"
     ]
    }
   ],
   "source": [
    "URL_prefix = \"https://tailieumoi.vn/danh-sach-cau-hoi?lop=5&mon=1&page=\"\n",
    "links = []\n",
    "for i in tqdm(range(1, 321)):\n",
    "    page = requests.get(URL_prefix + str(i))\n",
    "    soup = BeautifulSoup(page.content, \"html.parser\")\n",
    "    results = soup.find_all(\"a\", {\"class\": \"cl3 fs-18\"}, href=True)\n",
    "    for result in results:\n",
    "        links.append(result[\"href\"])\n",
    "        \n",
    "# open file in write mode\n",
    "with open(\"/home/vinhnq29/Public/zalo_challenge_2023/data/tailieumoi/toan5_links.txt\", 'a') as fp:\n",
    "    for link in links:\n",
    "        # write each item on a new line\n",
    "        fp.write(\"%s\\n\" % link)\n",
    "    print('Done')"
   ]
  },
  {
   "cell_type": "code",
   "execution_count": 95,
   "metadata": {},
   "outputs": [
    {
     "name": "stderr",
     "output_type": "stream",
     "text": [
      "100%|██████████| 183/183 [01:58<00:00,  1.54it/s]"
     ]
    },
    {
     "name": "stdout",
     "output_type": "stream",
     "text": [
      "Done\n"
     ]
    },
    {
     "name": "stderr",
     "output_type": "stream",
     "text": [
      "\n"
     ]
    }
   ],
   "source": [
    "URL_prefix = \"https://tailieumoi.vn/danh-sach-cau-hoi?lop=4&mon=1&page=\"\n",
    "links = []\n",
    "for i in tqdm(range(1, 184)):\n",
    "    page = requests.get(URL_prefix + str(i))\n",
    "    soup = BeautifulSoup(page.content, \"html.parser\")\n",
    "    results = soup.find_all(\"a\", {\"class\": \"cl3 fs-18\"}, href=True)\n",
    "    for result in results:\n",
    "        links.append(result[\"href\"])\n",
    "        \n",
    "# open file in write mode\n",
    "with open(\"/home/vinhnq29/Public/zalo_challenge_2023/data/tailieumoi/toan4_links.txt\", 'a') as fp:\n",
    "    for link in links:\n",
    "        # write each item on a new line\n",
    "        fp.write(\"%s\\n\" % link)\n",
    "    print('Done')"
   ]
  },
  {
   "cell_type": "code",
   "execution_count": 96,
   "metadata": {},
   "outputs": [
    {
     "name": "stderr",
     "output_type": "stream",
     "text": [
      "100%|██████████| 115/115 [01:09<00:00,  1.65it/s]"
     ]
    },
    {
     "name": "stdout",
     "output_type": "stream",
     "text": [
      "Done\n"
     ]
    },
    {
     "name": "stderr",
     "output_type": "stream",
     "text": [
      "\n"
     ]
    }
   ],
   "source": [
    "URL_prefix = \"https://tailieumoi.vn/danh-sach-cau-hoi?lop=3&mon=1&page=\"\n",
    "links = []\n",
    "for i in tqdm(range(1, 116)):\n",
    "    page = requests.get(URL_prefix + str(i))\n",
    "    soup = BeautifulSoup(page.content, \"html.parser\")\n",
    "    results = soup.find_all(\"a\", {\"class\": \"cl3 fs-18\"}, href=True)\n",
    "    for result in results:\n",
    "        links.append(result[\"href\"])\n",
    "        \n",
    "# open file in write mode\n",
    "with open(\"/home/vinhnq29/Public/zalo_challenge_2023/data/tailieumoi/toan3_links.txt\", 'a') as fp:\n",
    "    for link in links:\n",
    "        # write each item on a new line\n",
    "        fp.write(\"%s\\n\" % link)\n",
    "    print('Done')"
   ]
  },
  {
   "cell_type": "code",
   "execution_count": null,
   "metadata": {},
   "outputs": [],
   "source": []
  },
  {
   "cell_type": "code",
   "execution_count": 188,
   "metadata": {},
   "outputs": [],
   "source": [
    "import json\n",
    "import re\n",
    "\n",
    "close_tag_patterns = [\"</span>\", \"</div>\", \"</p>\", \"</h[\\d]>\"]\n",
    "open_tag_patterns = [\"<div.*?>\", \"<span.*?>\", \"<p.*?>\", \"<h.*?>\"]\n",
    "CLOSE_TAG = re.compile(\"|\".join(close_tag_patterns))\n",
    "OPEN_TAG = re.compile(\"|\".join(open_tag_patterns))\n",
    "\n",
    "def cleanhtml(raw_html: str):\n",
    "    # text = DIV_PATTERN.sub(\"\", raw_html)\n",
    "    # text = SPAN_PATTERN.sub(\"\", text)\n",
    "    # text = P_PATTERN.sub(\"\", text)\n",
    "    # text = H_PATTERN.sub(\"\", text)\n",
    "    text = CLOSE_TAG.sub(\"\", raw_html)\n",
    "    text = OPEN_TAG.sub(\"\", text)\n",
    "    return text\n",
    "\n",
    "def main():\n",
    "    math_5_links_file = open(\"/home/vinhnq29/Public/zalo_challenge_2023/data/tailieumoi/toan5_links.txt\", \"r\")\n",
    "    math_5_questions_file = open(\"/home/vinhnq29/Public/zalo_challenge_2023/data/tailieumoi/toan5_questions.jsonl\", \"a\")\n",
    "    for link in tqdm(math_5_links_file):\n",
    "        page = requests.get(link.strip())\n",
    "        soup = BeautifulSoup(page.content, \"html.parser\")\n",
    "        choices = soup.find_all(\"div\", {\"class\": \"answer-content\"})\n",
    "        question = soup.find(\"div\", {\"class\": \"question-content\"})\n",
    "        answer = soup.find(\"div\", {\"class\": \"question-reason\"})\n",
    "        if len(choices)==0 or not question or not answer:\n",
    "            continue\n",
    "        choices = list(map(lambda t: t.prettify(), choices))\n",
    "        question = question.prettify()\n",
    "        answer = answer.prettify()\n",
    "        choices = \"########\".join(choices)\n",
    "        if \"img src=\" in question or \"img src=\" in answer or \"img src=\" in choices:\n",
    "            continue\n",
    "        choices = cleanhtml(choices).strip()\n",
    "        question = cleanhtml(question).strip()\n",
    "        answer = cleanhtml(answer).strip()\n",
    "        d = json.dumps(\n",
    "            {\"question\": question, \"choices\": choices, \"answer\": answer}, \n",
    "            ensure_ascii=False\n",
    "        )+\"\\n\"\n",
    "        math_5_questions_file.write(d)\n",
    "        break\n",
    "\n",
    "    math_5_links_file.close()\n",
    "    math_5_questions_file.close()"
   ]
  },
  {
   "cell_type": "code",
   "execution_count": 22,
   "metadata": {},
   "outputs": [],
   "source": [
    "import requests\n",
    "from bs4 import BeautifulSoup\n",
    "\n",
    "link = \"https://hamchoi.vn/cau-hoi/376067/dien-dau-thich-hop-vao-cho-trong-2-hm2-5-dam2-2-hm2-50-dam2\"\n",
    "page = requests.get(link.strip())\n",
    "soup = BeautifulSoup(page.content, \"html.parser\")"
   ]
  },
  {
   "cell_type": "code",
   "execution_count": 23,
   "metadata": {},
   "outputs": [],
   "source": [
    "import json\n",
    "import re\n",
    "\n",
    "# close_tag_patterns = [\"</span>\", \"</div>\", \"</p>\", \"</h[\\d]>\"]\n",
    "# open_tag_patterns = [\"<div.*?>\", \"<span.*?>\", \"<p.*?>\", \"<h.*?>\"]\n",
    "close_tag_patterns = [\"</span>\", \"</div>\", \"</h[\\d]>\"]\n",
    "open_tag_patterns = [\"<div.*?>\", \"<span.*?>\", \"<h.*?>\"]\n",
    "CLOSE_TAG = re.compile(\"|\".join(close_tag_patterns))\n",
    "OPEN_TAG = re.compile(\"|\".join(open_tag_patterns))\n",
    "\n",
    "def cleanhtml(raw_html: str):\n",
    "    # text = DIV_PATTERN.sub(\"\", raw_html)\n",
    "    # text = SPAN_PATTERN.sub(\"\", text)\n",
    "    # text = P_PATTERN.sub(\"\", text)\n",
    "    # text = H_PATTERN.sub(\"\", text)\n",
    "    text = CLOSE_TAG.sub(\"\", raw_html)\n",
    "    text = OPEN_TAG.sub(\"\", text)\n",
    "    return text"
   ]
  },
  {
   "cell_type": "code",
   "execution_count": 26,
   "metadata": {},
   "outputs": [
    {
     "name": "stdout",
     "output_type": "stream",
     "text": [
      "<div class=\"question-content\">\n",
      " <h1 class=\"overflow-x-el\">\n",
      "  <p>\n",
      "   Điền dấu (&gt;, &lt;, =) thích hợp vào chỗ trống:\n",
      "  </p>\n",
      "  <p>\n",
      "   2 hm\n",
      "   <sup>\n",
      "    2\n",
      "   </sup>\n",
      "   5 dam\n",
      "   <sup>\n",
      "    2\n",
      "   </sup>\n",
      "   …  2 hm\n",
      "   <sup>\n",
      "    2\n",
      "   </sup>\n",
      "   50 dam\n",
      "   <sup>\n",
      "    2\n",
      "   </sup>\n",
      "  </p>\n",
      " </h1>\n",
      "</div>\n",
      "\n"
     ]
    }
   ],
   "source": [
    "print(soup.find(\"div\", {\"class\": \"question-content\"}).prettify())"
   ]
  },
  {
   "cell_type": "code",
   "execution_count": 20,
   "metadata": {},
   "outputs": [
    {
     "name": "stdout",
     "output_type": "stream",
     "text": [
      "\n",
      " \n",
      "  <p class=\"MsoNormal\" style=\"margin-bottom: 7.5pt;\">\n",
      "   \n",
      "    Một cái hộp hình lập phương có diện tích xung quanh là 256 cm\n",
      "    <sup>\n",
      "     2\n",
      "    </sup>\n",
      "    . Tính thể tích của cái hộp đó.\n",
      "   \n",
      "  </p>\n",
      " \n",
      "\n",
      "\n"
     ]
    }
   ],
   "source": [
    "print(cleanhtml(soup.find(\"h1\", {\"class\": \"title-question overflow-x-el\"}).prettify()))"
   ]
  },
  {
   "cell_type": "code",
   "execution_count": 21,
   "metadata": {},
   "outputs": [
    {
     "name": "stdout",
     "output_type": "stream",
     "text": [
      "\n",
      " \n",
      "  <p align=\"center\" class=\"MsoNormal\" style=\"text-align: left;\">\n",
      "   \n",
      "    Diện tích một mặt của hình lập phương đó là :\n",
      "   \n",
      "  </p>\n",
      "  <p align=\"center\" class=\"MsoNormal\" style=\"text-align: left;\">\n",
      "   \n",
      "    256 : 4 = 64 cm\n",
      "    <sup>\n",
      "     2\n",
      "    </sup>\n",
      "   \n",
      "  </p>\n",
      "  <p align=\"center\" class=\"MsoNormal\" style=\"text-align: left;\">\n",
      "   \n",
      "    Vì 8 × 8 = 46 nên cạnh của hình lập phương đó là 8cm.\n",
      "   \n",
      "  </p>\n",
      "  <p align=\"center\" class=\"MsoNormal\" style=\"text-align: left;\">\n",
      "   \n",
      "    Vậy thể tích của hình lập phương là :\n",
      "   \n",
      "  </p>\n",
      "  <p align=\"center\" class=\"MsoNormal\" style=\"text-align: left;\">\n",
      "   \n",
      "    8 × 8 × 8 = 512 (cm\n",
      "    <sup>\n",
      "     3\n",
      "    </sup>\n",
      "    )\n",
      "   \n",
      "  </p>\n",
      "  \n",
      "   Đáp số : 512cm\n",
      "   <sup>\n",
      "    3\n",
      "   </sup>\n",
      "  \n",
      " \n",
      "\n",
      "\n"
     ]
    }
   ],
   "source": [
    "print(cleanhtml(soup.find(\"div\", {\"class\": \"result\"}).prettify()))"
   ]
  },
  {
   "cell_type": "code",
   "execution_count": 9,
   "metadata": {},
   "outputs": [],
   "source": [
    "import pandoc\n",
    "from pandoc.types import *"
   ]
  },
  {
   "cell_type": "code",
   "execution_count": 15,
   "metadata": {},
   "outputs": [
    {
     "name": "stdout",
     "output_type": "stream",
     "text": [
      "Diện tích toàn phần của hình lập phương đó là:\n",
      "\n",
      "3 × 3 × 6 = 54 (dm ^2^ )\n",
      "\n",
      "Chọn D.\n",
      "\n"
     ]
    }
   ],
   "source": [
    "doc = pandoc.read(cleanhtml(soup.find(\"div\", {\"class\": \"question-reason\"}).prettify()), format=\"html\")\n",
    "print(pandoc.write(doc, format=\"markdown\", options=[\"--no-highlight\"]))"
   ]
  },
  {
   "cell_type": "code",
   "execution_count": null,
   "metadata": {},
   "outputs": [],
   "source": []
  },
  {
   "cell_type": "code",
   "execution_count": 120,
   "metadata": {},
   "outputs": [],
   "source": [
    "results = soup.find_all(\"div\", {\"class\": \"answer-content\"})"
   ]
  },
  {
   "cell_type": "code",
   "execution_count": 145,
   "metadata": {},
   "outputs": [
    {
     "name": "stdout",
     "output_type": "stream",
     "text": [
      "<div class=\"answer-content\">\n",
      " <h2 class=\"overflow-x-el\">\n",
      "  <p>\n",
      "   A.\n",
      "   <math xmlns=\"http://www.w3.org/1998/Math/MathML\">\n",
      "    <mfrac>\n",
      "     <mn>\n",
      "      2\n",
      "     </mn>\n",
      "     <mn>\n",
      "      10\n",
      "     </mn>\n",
      "    </mfrac>\n",
      "   </math>\n",
      "  </p>\n",
      " </h2>\n",
      "</div>\n",
      "\n"
     ]
    }
   ],
   "source": [
    "print(results[0].prettify())"
   ]
  },
  {
   "cell_type": "code",
   "execution_count": 138,
   "metadata": {},
   "outputs": [
    {
     "data": {
      "text/plain": [
       "'<div class=\"answer-content\">\\n<h2 class=\"overflow-x-el\"><p>A.\\xa0<math xmlns=\"http://www.w3.org/1998/Math/MathML\"><mfrac><mn>2</mn><mn>10</mn></mfrac></math></p></h2>\\n</div>'"
      ]
     },
     "execution_count": 138,
     "metadata": {},
     "output_type": "execute_result"
    }
   ],
   "source": [
    "str(results[0])"
   ]
  },
  {
   "cell_type": "code",
   "execution_count": 134,
   "metadata": {},
   "outputs": [],
   "source": [
    "import re\n",
    "# as per recommendation from @freylis, compile once only\n",
    "DIV_PATTERN = re.compile(\"<div.*?>\") \n",
    "SPAN_PATTERN = re.compile(\"<span.*?>\")\n",
    "P_PATTERN = re.compile(\"<p.*?>\")\n",
    "H_PATTERN = re.compile(\"<h.*?>\")\n",
    "close_tags = [\"</span>\", \"</div>\", \"</p>\", \"</h2>\"]\n",
    "\n",
    "def cleanhtml(raw_html):\n",
    "    text = DIV_PATTERN.sub(\"\", raw_html)\n",
    "    text = SPAN_PATTERN.sub(\"\", text)\n",
    "    text = P_PATTERN.sub(\"\", text)\n",
    "    text = H_PATTERN.sub(\"\", text)\n",
    "    return text"
   ]
  },
  {
   "cell_type": "code",
   "execution_count": 135,
   "metadata": {},
   "outputs": [
    {
     "data": {
      "text/plain": [
       "'\\n<h2 class=\"overflow-x-el\"><p>A.\\xa0<math xmlns=\"http://www.w3.org/1998/Math/MathML\"><mfrac><mn>2</mn><mn>10</mn></mfrac></math></p></h2>\\n'"
      ]
     },
     "execution_count": 135,
     "metadata": {},
     "output_type": "execute_result"
    }
   ],
   "source": [
    "cleanhtml(str(results[0]))"
   ]
  },
  {
   "cell_type": "code",
   "execution_count": null,
   "metadata": {},
   "outputs": [],
   "source": []
  },
  {
   "cell_type": "code",
   "execution_count": 69,
   "metadata": {},
   "outputs": [],
   "source": [
    "tmp = str(results[0].div.span)"
   ]
  },
  {
   "cell_type": "code",
   "execution_count": 70,
   "metadata": {},
   "outputs": [],
   "source": [
    "import re\n",
    "\n",
    "\n",
    "close_tags = [\"</span>\", \"</div>\", \"</p>\", \"</h2>\"]\n",
    "def remove_all_close_tags(tag: str):\n",
    "    return re.sub(\"|\".join(close_tags), \"\", tag)\n",
    "pattern = re.compile(r\"<span.*\\\">|</span>\")"
   ]
  },
  {
   "cell_type": "code",
   "execution_count": 71,
   "metadata": {},
   "outputs": [],
   "source": [
    "tmp = pattern.sub('', tmp)"
   ]
  },
  {
   "cell_type": "code",
   "execution_count": null,
   "metadata": {},
   "outputs": [],
   "source": []
  },
  {
   "cell_type": "code",
   "execution_count": null,
   "metadata": {},
   "outputs": [],
   "source": []
  },
  {
   "cell_type": "markdown",
   "metadata": {},
   "source": [
    "# CRAWL HAMCHOI"
   ]
  },
  {
   "cell_type": "code",
   "execution_count": 1,
   "metadata": {},
   "outputs": [],
   "source": [
    "import requests\n",
    "from bs4 import BeautifulSoup\n",
    "from tqdm import tqdm"
   ]
  },
  {
   "cell_type": "code",
   "execution_count": 2,
   "metadata": {},
   "outputs": [
    {
     "name": "stderr",
     "output_type": "stream",
     "text": [
      "100%|██████████| 306/306 [42:03<00:00,  8.25s/it]"
     ]
    },
    {
     "name": "stdout",
     "output_type": "stream",
     "text": [
      "Done\n"
     ]
    },
    {
     "name": "stderr",
     "output_type": "stream",
     "text": [
      "\n"
     ]
    }
   ],
   "source": [
    "# CRAWL TOAN 3\n",
    "URL_prefix = \"https://hamchoi.vn/cau-hoi?lop=lop-3&mon=toan&page=\"\n",
    "links = []\n",
    "for i in tqdm(range(1, 307)):\n",
    "    page = requests.get(URL_prefix + str(i))\n",
    "    soup = BeautifulSoup(page.content, \"html.parser\")\n",
    "    results = soup.find_all(\"a\", {\"class\": \"cl3 fs-18\"}, href=True)\n",
    "    for result in results:\n",
    "        links.append(result[\"href\"])\n",
    "        \n",
    "# open file in write mode\n",
    "with open(\"/home/vinhnq29/Public/zalo_challenge_2023/data/hamchoi/toan3_links.txt\", 'a') as fp:\n",
    "    for link in links:\n",
    "        # write each item on a new line\n",
    "        fp.write(\"%s\\n\" % link)\n",
    "    print('Done')"
   ]
  },
  {
   "cell_type": "code",
   "execution_count": 3,
   "metadata": {},
   "outputs": [
    {
     "name": "stderr",
     "output_type": "stream",
     "text": [
      "100%|██████████| 307/307 [57:10<00:00, 11.17s/it]"
     ]
    },
    {
     "name": "stdout",
     "output_type": "stream",
     "text": [
      "Done\n"
     ]
    },
    {
     "name": "stderr",
     "output_type": "stream",
     "text": [
      "\n"
     ]
    }
   ],
   "source": [
    "# CRAWL TOAN 4\n",
    "URL_prefix = \"https://hamchoi.vn/cau-hoi?lop=lop-4&mon=toan&page=\"\n",
    "links = []\n",
    "for i in tqdm(range(1, 308)):\n",
    "    page = requests.get(URL_prefix + str(i))\n",
    "    soup = BeautifulSoup(page.content, \"html.parser\")\n",
    "    results = soup.find_all(\"a\", {\"class\": \"cl3 fs-18\"}, href=True)\n",
    "    for result in results:\n",
    "        links.append(result[\"href\"])\n",
    "        \n",
    "# open file in write mode\n",
    "with open(\"/home/vinhnq29/Public/zalo_challenge_2023/data/hamchoi/toan4_links.txt\", 'a') as fp:\n",
    "    for link in links:\n",
    "        # write each item on a new line\n",
    "        fp.write(\"%s\\n\" % link)\n",
    "    print('Done')"
   ]
  },
  {
   "cell_type": "code",
   "execution_count": 4,
   "metadata": {},
   "outputs": [
    {
     "name": "stderr",
     "output_type": "stream",
     "text": [
      "100%|██████████| 307/307 [58:21<00:00, 11.41s/it]"
     ]
    },
    {
     "name": "stdout",
     "output_type": "stream",
     "text": [
      "Done\n"
     ]
    },
    {
     "name": "stderr",
     "output_type": "stream",
     "text": [
      "\n"
     ]
    }
   ],
   "source": [
    "# CRAWL TOAN 5\n",
    "URL_prefix = \"https://hamchoi.vn/cau-hoi?lop=lop-5&mon=toan&page=\"\n",
    "links = []\n",
    "for i in tqdm(range(1, 308)):\n",
    "    page = requests.get(URL_prefix + str(i))\n",
    "    soup = BeautifulSoup(page.content, \"html.parser\")\n",
    "    results = soup.find_all(\"a\", {\"class\": \"cl3 fs-18\"}, href=True)\n",
    "    for result in results:\n",
    "        links.append(result[\"href\"])\n",
    "        \n",
    "# open file in write mode\n",
    "with open(\"/home/vinhnq29/Public/zalo_challenge_2023/data/hamchoi/toan5_links.txt\", 'a') as fp:\n",
    "    for link in links:\n",
    "        # write each item on a new line\n",
    "        fp.write(\"%s\\n\" % link)\n",
    "    print('Done')"
   ]
  },
  {
   "cell_type": "code",
   "execution_count": 36,
   "metadata": {},
   "outputs": [],
   "source": [
    "import json\n",
    "\n",
    "data = []\n",
    "\n",
    "with open(\"/home/vinhnq29/Public/zalo_challenge_2023/data/hamchoi/toan5_questions.jsonl\", \"r\") as f:\n",
    "    for line in f:\n",
    "        data.append(json.loads(line))"
   ]
  },
  {
   "cell_type": "code",
   "execution_count": 37,
   "metadata": {},
   "outputs": [
    {
     "data": {
      "text/plain": [
       "15351"
      ]
     },
     "execution_count": 37,
     "metadata": {},
     "output_type": "execute_result"
    }
   ],
   "source": [
    "len(data)"
   ]
  },
  {
   "cell_type": "code",
   "execution_count": 38,
   "metadata": {},
   "outputs": [],
   "source": [
    "from bs4 import BeautifulSoup"
   ]
  },
  {
   "cell_type": "code",
   "execution_count": 48,
   "metadata": {},
   "outputs": [],
   "source": [
    "soup = BeautifulSoup(data[89][\"content\"], \"html.parser\")\n",
    "# results = soup.find_all(\"a\", {\"class\": \"cl3 fs-18\"}, href=True)"
   ]
  },
  {
   "cell_type": "code",
   "execution_count": 49,
   "metadata": {},
   "outputs": [
    {
     "data": {
      "text/plain": [
       "<div class=\"question-content\">\n",
       "<h1 class=\"overflow-x-el\">\n",
       "<div>\n",
       "<p class=\"MsoNormal\" style=\"\"><span style=\" \">Trong suốt cuộc đua xe đạp, người thứ nhất đi với vận tốc 20km/giờ suốt cả quãng đường. Người thứ hai đi với vận tốc 16km/giờ trong nửa quãng đường đầu, còn nửa quãng đường sau đi với vận tốc 24km/giờ. Người thứ ba trong nửa thời gian đầu của mình đi với vận tốc 16km/giờ, nửa thời gian sau đi với vậ tốc 24km/giờ. Hỏi trong ba người đó ai đến đích trước?</span></p>\n",
       "</div>\n",
       "</h1>\n",
       "</div>"
      ]
     },
     "execution_count": 49,
     "metadata": {},
     "output_type": "execute_result"
    }
   ],
   "source": [
    "soup.find(\"div\", {\"class\": \"question-content\"})"
   ]
  },
  {
   "cell_type": "code",
   "execution_count": 50,
   "metadata": {},
   "outputs": [
    {
     "data": {
      "text/plain": [
       "[]"
      ]
     },
     "execution_count": 50,
     "metadata": {},
     "output_type": "execute_result"
    }
   ],
   "source": [
    "soup.find_all(\"div\", {\"class\": \"answer-content\"})"
   ]
  },
  {
   "cell_type": "code",
   "execution_count": 51,
   "metadata": {},
   "outputs": [
    {
     "name": "stdout",
     "output_type": "stream",
     "text": [
      "<div class=\"question-reason\">\n",
      "<h2 class=\"overflow-x-el\">\n",
      "<div>\n",
      "<p class=\"MsoNormal\" style=\"\"><span style=\" \">Người thứ ba đi nửa thời gian đầu với vận tốc 16km/giờ và nửa thời gia sau với vận tốc 24km/giờ. Do đó người thứ ba đI với vận tốc trung bình trên cả quãng đường là:</span></p>\n",
      "<p class=\"MsoNormal\" style=\"\"><span style=\" \">(16 + 24) : 2 = 20 (km/giờ)</span></p>\n",
      "<p class=\"MsoNormal\" style=\"\"><span style=\" \">Người thứ nhất đi với vận tốc 20km/giờ trên suốt quãng đường AB nên người thứ nhất và người thứ ba đến đích cùng một lúc.</span></p>\n",
      "<p class=\"MsoNormal\" style=\"\"><span style=\" \">Ta còn phảI tính vận tốc trung bình của người thứ hai để so sánh.</span></p>\n",
      "<p class=\"MsoNormal\" style=\" mso-outline-level: 1;\"><span style=\"\"><strong style=\"mso-bidi-font-weight: normal;\"><span style=\"\">Cách 1:</span></strong></span></p>\n",
      "<p class=\"MsoNormal\" style=\"\"><span style=\" \"><span style=\"mso-tab-count: 1;\">          </span>Người thứ hai đi nửa quãng đường đầu với vận tốc 16km/giờ và nửa quãng đường sau với vận tốc 24km/giờ. Từ đó ta có thể tính vận tốc trung bình trên cả quãng đường như sau:</span></p>\n",
      "<p class=\"MsoNormal\" style=\"\"><span style=\" \">Cứ 1km đi với vận tốc 16km/giờ thì hết thời gian là:</span></p>\n",
      "<p class=\"MsoNormal\" style=\"\"><span style=\" \">1 : 16 = 0,0625 (giờ)</span></p>\n",
      "<p class=\"MsoNormal\" style=\"\"><span style=\" \">Cứ 1km đi với vận tốc 24km/giờ thì hết thời gian là:</span></p>\n",
      "<p class=\"MsoNormal\" style=\"\"><span style=\" \">1 : 24 = 0,0417 (giờ)</span></p>\n",
      "<p class=\"MsoNormal\" style=\"\"><span style=\" \">Do đó đi 2km hết thời gian là:</span></p>\n",
      "<p class=\"MsoNormal\" style=\"\"><span style=\" \">0,0625 + 0,0417 = 0,1042 (giờ)</span></p>\n",
      "<p class=\"MsoNormal\" style=\"\"><span style=\" \">Vậy người thứ hai đi với vận tốc trung bình trên cả quãng đường đi là:</span></p>\n",
      "<p class=\"MsoNormal\" style=\"\"><span style=\" \">2 : 0,1042 = 19,2 (km/giờ)</span></p>\n",
      "<p class=\"MsoNormal\" style=\"\"><span style=\" \">Vì 20km/giờ &gt; 19,2 km/giờ nên người thứ nhất và người thứ ba đến đích trước người thứ hai.</span></p>\n",
      "<p class=\"MsoNormal\" style=\" mso-outline-level: 1;\"><span style=\"\"><strong style=\"mso-bidi-font-weight: normal;\"><span style=\"\">Cách 2:</span></strong></span></p>\n",
      "<p class=\"MsoNormal\" style=\"\"><span style=\" \">Với vận tốc 16km/giờ thì người thứ hai đi 1km hết số phút là:</span></p>\n",
      "<p class=\"MsoNormal\" style=\"\"><span style=\" \">60 : 16 = 3,75 (phút)</span></p>\n",
      "<p class=\"MsoNormal\" style=\"\"><span style=\" \">Với vận tốc 24km/giờ người thứ hai đi 1km hết số phút là:</span></p>\n",
      "<p class=\"MsoNormal\" style=\"\"><span style=\" \">60 : 24 = 2,5 (phút)</span></p>\n",
      "<p class=\"MsoNormal\" style=\"\"><span style=\" \">Người thứ hai đi 2km hết số phút là:</span></p>\n",
      "<p class=\"MsoNormal\" style=\"\"><span style=\" \">3,75 + 2,5 = 6,25 (phút)</span></p>\n",
      "<p class=\"MsoNormal\" style=\"\"><span style=\" \">Vận tốc trung bình của người thứ hai đi trên cả quãng đường là:</span></p>\n",
      "<p class=\"MsoNormal\" style=\"\"><span style=\" \">2 : 6,25 = 0, 32 (km/phút)</span></p>\n",
      "<p class=\"MsoNormal\" style=\"\"><span style=\" \">0,32 km/phút = 19,2 km/giờ</span></p>\n",
      "<p class=\"MsoNormal\" style=\"\"><span style=\" \">Vì 20km/giờ &gt; 19,2 km/giờ nên người thứ nhất và người thứ ba đến đích trước người thứ hai.</span></p>\n",
      "<p class=\"MsoNormal\" style=\" mso-outline-level: 1;\"><span style=\"\"><strong style=\"mso-bidi-font-weight: normal;\"><span style=\"\">Cách 3:</span></strong></span></p>\n",
      "<p class=\"MsoNormal\" style=\"\"><span style=\" \">Giả sử quãng đường đua dài 96km. Mỗi nửa quãng đường là 48km.</span></p>\n",
      "<p class=\"MsoNormal\" style=\"\"><span style=\" \">Thời gian gười thứ hai đi nửa quãng đường đầu là:</span></p>\n",
      "<p class=\"MsoNormal\" style=\"\"><span style=\" \">48 : 16 = 3 (giờ)</span></p>\n",
      "<p class=\"MsoNormal\" style=\"\"><span style=\" \">Thời gian người thứ hai đi nửa quãng đường sau là:</span></p>\n",
      "<p class=\"MsoNormal\" style=\"\"><span style=\" \">48 : 24 = 2 (giờ)</span></p>\n",
      "<p class=\"MsoNormal\" style=\"\"><span style=\" \">Người thứ hai đi cả quãng đường với vận tốc trung bình là:</span></p>\n",
      "<p class=\"MsoNormal\" style=\"\"><span style=\" \">96 : (2 + 3 ) = 19,2 (km/giờ)</span></p>\n",
      "<p class=\"MsoNormal\" style=\"\"><span style=\" \">Vì 20km/giờ &gt; 19,2 km/giờ nên người thứ nhất và người thứ ba đến đích trước người thứ hai.</span></p>\n",
      "</div>\n",
      "</h2>\n",
      "</div>\n"
     ]
    }
   ],
   "source": [
    "print(str(soup.find(\"div\", {\"class\": \"question-reason\"})))"
   ]
  },
  {
   "cell_type": "code",
   "execution_count": 52,
   "metadata": {},
   "outputs": [
    {
     "name": "stdout",
     "output_type": "stream",
     "text": [
      "\n",
      "<h2 class=\"overflow-x-el\">\n",
      "<div>\n",
      "<p class=\"MsoNormal\" style=\"\"><span style=\" \">Người thứ ba đi nửa thời gian đầu với vận tốc 16km/giờ và nửa thời gia sau với vận tốc 24km/giờ. Do đó người thứ ba đI với vận tốc trung bình trên cả quãng đường là:</span></p>\n",
      "<p class=\"MsoNormal\" style=\"\"><span style=\" \">(16 + 24) : 2 = 20 (km/giờ)</span></p>\n",
      "<p class=\"MsoNormal\" style=\"\"><span style=\" \">Người thứ nhất đi với vận tốc 20km/giờ trên suốt quãng đường AB nên người thứ nhất và người thứ ba đến đích cùng một lúc.</span></p>\n",
      "<p class=\"MsoNormal\" style=\"\"><span style=\" \">Ta còn phảI tính vận tốc trung bình của người thứ hai để so sánh.</span></p>\n",
      "<p class=\"MsoNormal\" style=\" mso-outline-level: 1;\"><span style=\"\"><strong style=\"mso-bidi-font-weight: normal;\"><span style=\"\">Cách 1:</span></strong></span></p>\n",
      "<p class=\"MsoNormal\" style=\"\"><span style=\" \"><span style=\"mso-tab-count: 1;\">          </span>Người thứ hai đi nửa quãng đường đầu với vận tốc 16km/giờ và nửa quãng đường sau với vận tốc 24km/giờ. Từ đó ta có thể tính vận tốc trung bình trên cả quãng đường như sau:</span></p>\n",
      "<p class=\"MsoNormal\" style=\"\"><span style=\" \">Cứ 1km đi với vận tốc 16km/giờ thì hết thời gian là:</span></p>\n",
      "<p class=\"MsoNormal\" style=\"\"><span style=\" \">1 : 16 = 0,0625 (giờ)</span></p>\n",
      "<p class=\"MsoNormal\" style=\"\"><span style=\" \">Cứ 1km đi với vận tốc 24km/giờ thì hết thời gian là:</span></p>\n",
      "<p class=\"MsoNormal\" style=\"\"><span style=\" \">1 : 24 = 0,0417 (giờ)</span></p>\n",
      "<p class=\"MsoNormal\" style=\"\"><span style=\" \">Do đó đi 2km hết thời gian là:</span></p>\n",
      "<p class=\"MsoNormal\" style=\"\"><span style=\" \">0,0625 + 0,0417 = 0,1042 (giờ)</span></p>\n",
      "<p class=\"MsoNormal\" style=\"\"><span style=\" \">Vậy người thứ hai đi với vận tốc trung bình trên cả quãng đường đi là:</span></p>\n",
      "<p class=\"MsoNormal\" style=\"\"><span style=\" \">2 : 0,1042 = 19,2 (km/giờ)</span></p>\n",
      "<p class=\"MsoNormal\" style=\"\"><span style=\" \">Vì 20km/giờ &gt; 19,2 km/giờ nên người thứ nhất và người thứ ba đến đích trước người thứ hai.</span></p>\n",
      "<p class=\"MsoNormal\" style=\" mso-outline-level: 1;\"><span style=\"\"><strong style=\"mso-bidi-font-weight: normal;\"><span style=\"\">Cách 2:</span></strong></span></p>\n",
      "<p class=\"MsoNormal\" style=\"\"><span style=\" \">Với vận tốc 16km/giờ thì người thứ hai đi 1km hết số phút là:</span></p>\n",
      "<p class=\"MsoNormal\" style=\"\"><span style=\" \">60 : 16 = 3,75 (phút)</span></p>\n",
      "<p class=\"MsoNormal\" style=\"\"><span style=\" \">Với vận tốc 24km/giờ người thứ hai đi 1km hết số phút là:</span></p>\n",
      "<p class=\"MsoNormal\" style=\"\"><span style=\" \">60 : 24 = 2,5 (phút)</span></p>\n",
      "<p class=\"MsoNormal\" style=\"\"><span style=\" \">Người thứ hai đi 2km hết số phút là:</span></p>\n",
      "<p class=\"MsoNormal\" style=\"\"><span style=\" \">3,75 + 2,5 = 6,25 (phút)</span></p>\n",
      "<p class=\"MsoNormal\" style=\"\"><span style=\" \">Vận tốc trung bình của người thứ hai đi trên cả quãng đường là:</span></p>\n",
      "<p class=\"MsoNormal\" style=\"\"><span style=\" \">2 : 6,25 = 0, 32 (km/phút)</span></p>\n",
      "<p class=\"MsoNormal\" style=\"\"><span style=\" \">0,32 km/phút = 19,2 km/giờ</span></p>\n",
      "<p class=\"MsoNormal\" style=\"\"><span style=\" \">Vì 20km/giờ &gt; 19,2 km/giờ nên người thứ nhất và người thứ ba đến đích trước người thứ hai.</span></p>\n",
      "<p class=\"MsoNormal\" style=\" mso-outline-level: 1;\"><span style=\"\"><strong style=\"mso-bidi-font-weight: normal;\"><span style=\"\">Cách 3:</span></strong></span></p>\n",
      "<p class=\"MsoNormal\" style=\"\"><span style=\" \">Giả sử quãng đường đua dài 96km. Mỗi nửa quãng đường là 48km.</span></p>\n",
      "<p class=\"MsoNormal\" style=\"\"><span style=\" \">Thời gian gười thứ hai đi nửa quãng đường đầu là:</span></p>\n",
      "<p class=\"MsoNormal\" style=\"\"><span style=\" \">48 : 16 = 3 (giờ)</span></p>\n",
      "<p class=\"MsoNormal\" style=\"\"><span style=\" \">Thời gian người thứ hai đi nửa quãng đường sau là:</span></p>\n",
      "<p class=\"MsoNormal\" style=\"\"><span style=\" \">48 : 24 = 2 (giờ)</span></p>\n",
      "<p class=\"MsoNormal\" style=\"\"><span style=\" \">Người thứ hai đi cả quãng đường với vận tốc trung bình là:</span></p>\n",
      "<p class=\"MsoNormal\" style=\"\"><span style=\" \">96 : (2 + 3 ) = 19,2 (km/giờ)</span></p>\n",
      "<p class=\"MsoNormal\" style=\"\"><span style=\" \">Vì 20km/giờ &gt; 19,2 km/giờ nên người thứ nhất và người thứ ba đến đích trước người thứ hai.</span></p>\n",
      "</div>\n",
      "</h2>\n",
      "\n"
     ]
    }
   ],
   "source": [
    "print(soup.find(\"div\", {\"class\": \"question-reason\"}).decode_contents())"
   ]
  },
  {
   "cell_type": "code",
   "execution_count": null,
   "metadata": {},
   "outputs": [],
   "source": [
    "with open(\"../../da \")"
   ]
  },
  {
   "cell_type": "code",
   "execution_count": null,
   "metadata": {},
   "outputs": [],
   "source": []
  },
  {
   "cell_type": "code",
   "execution_count": null,
   "metadata": {},
   "outputs": [],
   "source": []
  },
  {
   "cell_type": "code",
   "execution_count": null,
   "metadata": {},
   "outputs": [],
   "source": []
  },
  {
   "cell_type": "code",
   "execution_count": 53,
   "metadata": {},
   "outputs": [],
   "source": [
    "import requests\n",
    "from bs4 import BeautifulSoup\n",
    "from tqdm import tqdm"
   ]
  },
  {
   "cell_type": "code",
   "execution_count": 64,
   "metadata": {},
   "outputs": [
    {
     "name": "stderr",
     "output_type": "stream",
     "text": [
      "100%|██████████| 428/428 [12:03<00:00,  1.69s/it]"
     ]
    },
    {
     "name": "stdout",
     "output_type": "stream",
     "text": [
      "Done\n"
     ]
    },
    {
     "name": "stderr",
     "output_type": "stream",
     "text": [
      "\n"
     ]
    }
   ],
   "source": [
    "# CRAWL TOAN 3\n",
    "URL_prefix = \"https://khoahoc.vietjack.com/cau-hoi/mon-Toan/Lop-3?page=\"\n",
    "links = []\n",
    "for i in tqdm(range(1, 429)):\n",
    "    page = requests.get(URL_prefix + str(i))\n",
    "    soup = BeautifulSoup(page.content, \"html.parser\")\n",
    "    results = [item.a for item in soup.find_all(\"div\", {\"class\": \"cau-hoi-list-item-title overflow-x-el\"})]\n",
    "    for result in results:\n",
    "        links.append(result[\"href\"])\n",
    "        \n",
    "# open file in write mode\n",
    "with open(\"/home/vinhnq29/Public/zalo_challenge_2023/data/vietjack/toan3_links.txt\", \"a\") as fp:\n",
    "    for link in links:\n",
    "        # write each item on a new line\n",
    "        fp.write(\"%s\\n\" % link)"
   ]
  },
  {
   "cell_type": "code",
   "execution_count": 65,
   "metadata": {},
   "outputs": [
    {
     "name": "stderr",
     "output_type": "stream",
     "text": [
      "100%|██████████| 440/440 [13:05<00:00,  1.79s/it]\n"
     ]
    }
   ],
   "source": [
    "# CRAWL TOAN 4\n",
    "URL_prefix = \"https://khoahoc.vietjack.com/cau-hoi/mon-Toan/Lop-4?page=\"\n",
    "links = []\n",
    "for i in tqdm(range(1, 441)):\n",
    "    page = requests.get(URL_prefix + str(i))\n",
    "    soup = BeautifulSoup(page.content, \"html.parser\")\n",
    "    results = [item.a for item in soup.find_all(\"div\", {\"class\": \"cau-hoi-list-item-title overflow-x-el\"})]\n",
    "    for result in results:\n",
    "        links.append(result[\"href\"])\n",
    "        \n",
    "# open file in write mode\n",
    "with open(\"/home/vinhnq29/Public/zalo_challenge_2023/data/vietjack/toan4_links.txt\", \"a\") as fp:\n",
    "    for link in links:\n",
    "        # write each item on a new line\n",
    "        fp.write(\"%s\\n\" % link)"
   ]
  },
  {
   "cell_type": "code",
   "execution_count": 66,
   "metadata": {},
   "outputs": [
    {
     "name": "stderr",
     "output_type": "stream",
     "text": [
      "100%|██████████| 397/397 [11:23<00:00,  1.72s/it]\n"
     ]
    }
   ],
   "source": [
    "# CRAWL TOAN 4\n",
    "URL_prefix = \"https://khoahoc.vietjack.com/cau-hoi/mon-Toan/Lop-5?page=\"\n",
    "links = []\n",
    "for i in tqdm(range(1, 398)):\n",
    "    page = requests.get(URL_prefix + str(i))\n",
    "    soup = BeautifulSoup(page.content, \"html.parser\")\n",
    "    results = [item.a for item in soup.find_all(\"div\", {\"class\": \"cau-hoi-list-item-title overflow-x-el\"})]\n",
    "    for result in results:\n",
    "        links.append(result[\"href\"])\n",
    "        \n",
    "# open file in write mode\n",
    "with open(\"/home/vinhnq29/Public/zalo_challenge_2023/data/vietjack/toan5_links.txt\", \"a\") as fp:\n",
    "    for link in links:\n",
    "        # write each item on a new line\n",
    "        fp.write(\"%s\\n\" % link)"
   ]
  },
  {
   "cell_type": "code",
   "execution_count": 6,
   "metadata": {},
   "outputs": [],
   "source": [
    "a, (b, c) = 1, (2, 3)"
   ]
  },
  {
   "cell_type": "code",
   "execution_count": 9,
   "metadata": {},
   "outputs": [
    {
     "data": {
      "text/plain": [
       "3"
      ]
     },
     "execution_count": 9,
     "metadata": {},
     "output_type": "execute_result"
    }
   ],
   "source": [
    "c"
   ]
  },
  {
   "cell_type": "code",
   "execution_count": null,
   "metadata": {},
   "outputs": [],
   "source": []
  },
  {
   "cell_type": "code",
   "execution_count": 73,
   "metadata": {},
   "outputs": [],
   "source": [
    "page = requests.get(\"https://khoahoc.vietjack.com/question/1112843/nguoi-ta-xep-6-hinh-lap-phuong-canh-1cm-thanh-mot-hinh-hop-chu-nhat-hoi-co-bao-nhieu-cach-xep-khac-n\")\n",
    "soup = BeautifulSoup(page.content, \"html.parser\")"
   ]
  },
  {
   "cell_type": "code",
   "execution_count": 74,
   "metadata": {},
   "outputs": [
    {
     "data": {
      "text/plain": [
       "[<h1 class=\"title-question overflow-x-el\">\n",
       " <div>\n",
       " <p class=\"MsoNormal\" style=\"margin-bottom: 0in; text-align: justify;  mso-\"><span style=\"mso-bidi-\">Người ta xếp 6 hình lập phương cạnh 1cm thành một hình hộp chữ nhật. Hỏi có bao nhiêu cách xếp khác nhau?</span></p>\n",
       " </div>\n",
       " </h1>]"
      ]
     },
     "execution_count": 74,
     "metadata": {},
     "output_type": "execute_result"
    }
   ],
   "source": [
    "soup.find_all(\"h1\", {\"class\": \"title-question overflow-x-el\"})"
   ]
  },
  {
   "cell_type": "code",
   "execution_count": 75,
   "metadata": {},
   "outputs": [
    {
     "data": {
      "text/plain": [
       "[<div class=\"result\">\n",
       " <p><strong>Chọn đáp án D</strong></p>\n",
       " </div>]"
      ]
     },
     "execution_count": 75,
     "metadata": {},
     "output_type": "execute_result"
    }
   ],
   "source": [
    "soup.find_all(\"div\", {\"class\": \"result\"})"
   ]
  },
  {
   "cell_type": "code",
   "execution_count": 79,
   "metadata": {},
   "outputs": [
    {
     "data": {
      "text/plain": [
       "3"
      ]
     },
     "execution_count": 79,
     "metadata": {},
     "output_type": "execute_result"
    }
   ],
   "source": [
    "len(soup.find_all(\"div\", {\"class\": \"option-choices js-answer\"}))"
   ]
  },
  {
   "cell_type": "code",
   "execution_count": 82,
   "metadata": {},
   "outputs": [
    {
     "data": {
      "text/plain": [
       "<div class=\"option-choices js-answer\" data-answer-id=\"4848172\" data-answer-value=\"N\" id=\"answer-4848172\">\n",
       "<label class=\"option-content overflow-x-el\">\n",
       "<div>\n",
       "<p class=\"MsoNormal\" style=\"margin-bottom: 0in; text-align: justify;  mso-\"><span style=\"mso-bidi-\">C. 5 cách<span style=\"mso-tab-count: 1;\"> </span></span></p>\n",
       "</div>\n",
       "</label>\n",
       "<div class=\"option-answer-text move-to-top\" id=\"text-4848172\">\n",
       "</div>\n",
       "</div>"
      ]
     },
     "execution_count": 82,
     "metadata": {},
     "output_type": "execute_result"
    }
   ],
   "source": [
    "soup.find_all(\"div\", {\"class\": \"option-choices js-answer\"})"
   ]
  },
  {
   "cell_type": "code",
   "execution_count": 86,
   "metadata": {},
   "outputs": [
    {
     "data": {
      "text/plain": [
       "<label class=\"option-content overflow-x-el\">\n",
       "<div>\n",
       "<p class=\"MsoNormal\" style=\"margin-bottom: 0in; text-align: justify;  mso-\"><span style=\"mso-bidi-\">D. 6 cách</span></p>\n",
       "</div>\n",
       "</label>"
      ]
     },
     "execution_count": 86,
     "metadata": {},
     "output_type": "execute_result"
    }
   ],
   "source": [
    "soup.find(\"div\", {\"class\": \"option-choices js-answer answer-correct\"}).label"
   ]
  },
  {
   "cell_type": "code",
   "execution_count": null,
   "metadata": {},
   "outputs": [],
   "source": []
  },
  {
   "cell_type": "code",
   "execution_count": null,
   "metadata": {},
   "outputs": [],
   "source": []
  },
  {
   "cell_type": "markdown",
   "metadata": {},
   "source": [
    "# Deduplicate questions"
   ]
  },
  {
   "cell_type": "code",
   "execution_count": 221,
   "metadata": {},
   "outputs": [
    {
     "name": "stderr",
     "output_type": "stream",
     "text": [
      "0it [00:00, ?it/s]"
     ]
    },
    {
     "name": "stderr",
     "output_type": "stream",
     "text": [
      "24645it [00:05, 4566.31it/s]\n",
      "45961it [00:08, 5366.72it/s] \n",
      "63135it [00:09, 6466.67it/s] \n"
     ]
    }
   ],
   "source": [
    "import json\n",
    "from tqdm import tqdm\n",
    "from bs4 import BeautifulSoup\n",
    "\n",
    "tailieumoi_questions = []\n",
    "hamchoi_questions = []\n",
    "vietjack_questions = []\n",
    "with open(\"/home/vinhnq29/Public/zalo_challenge_2023/data/ViMathQA/raw_tailieumoi_questions.jsonl\") as f:\n",
    "    for line in tqdm(f):\n",
    "        sample = json.loads(line)\n",
    "        if sample[\"choices\"]==['']:\n",
    "            continue\n",
    "        s = sample[\"question\"] + \"####\" + \"####\".join(sample[\"choices\"]) + \"####\" + sample[\"answer\"]\n",
    "        if \"<img\" in s or \"<table\" in s or \"<mtable\" in s or \"<iframe\" in s:\n",
    "            continue\n",
    "        soup = BeautifulSoup(sample[\"question\"], \"html.parser\")\n",
    "        sample[\"question_text\"] = \" \".join(soup.text.strip().split())\n",
    "        soup = BeautifulSoup(sample[\"answer\"], \"html.parser\")\n",
    "        sample[\"answer_text\"] = \" \".join(soup.text.strip().split())\n",
    "        if len(sample[\"answer_text\"].split()) < 10:\n",
    "            continue\n",
    "        sample[\"source\"] = \"tailieumoi\"\n",
    "        tailieumoi_questions.append(sample)\n",
    "\n",
    "with open(\"/home/vinhnq29/Public/zalo_challenge_2023/data/ViMathQA/raw_hamchoi_questions.jsonl\") as f:\n",
    "    for line in tqdm(f):\n",
    "        sample = json.loads(line)\n",
    "        if sample[\"choices\"]==['']:\n",
    "            continue\n",
    "        s = sample[\"question\"] + \"####\" + \"####\".join(sample[\"choices\"]) + \"####\" + sample[\"answer\"]\n",
    "        if \"<img\" in s or \"<table\" in s or \"<mtable\" in s or \"<iframe\" in s:\n",
    "            continue\n",
    "        soup = BeautifulSoup(sample[\"question\"], \"html.parser\")\n",
    "        sample[\"question_text\"] = \" \".join(soup.text.strip().split())\n",
    "        soup = BeautifulSoup(sample[\"answer\"], \"html.parser\")\n",
    "        sample[\"answer_text\"] = \" \".join(soup.text.strip().split())\n",
    "        if len(sample[\"answer_text\"].split()) < 10:\n",
    "            continue\n",
    "        sample[\"source\"] = \"hamchoi\"\n",
    "        hamchoi_questions.append(sample)\n",
    "\n",
    "with open(\"/home/vinhnq29/Public/zalo_challenge_2023/data/ViMathQA/raw_vietjack_questions.jsonl\") as f:\n",
    "    for line in tqdm(f):\n",
    "        sample = json.loads(line)\n",
    "        s = sample[\"question\"] + \"####\" + \"####\".join(sample[\"choices\"]) + \"####\" + sample[\"answer\"][0]\n",
    "        if \"<img\" in s or \"<table\" in s or \"<mtable\" in s or \"<iframe\" in s:\n",
    "            continue\n",
    "        if sample[\"choices\"]==['']:\n",
    "            continue\n",
    "        soup = BeautifulSoup(sample[\"question\"], \"html.parser\")\n",
    "        sample[\"question_text\"] = \" \".join(soup.text.strip().split())\n",
    "        soup = BeautifulSoup(sample[\"answer\"][0], \"html.parser\")\n",
    "        sample[\"answer_text\"] = \" \".join(soup.text.strip().split())\n",
    "        if len(sample[\"answer_text\"].split()) < 10:\n",
    "            continue\n",
    "        sample[\"source\"] = \"vietjack\"\n",
    "        vietjack_questions.append(sample)"
   ]
  },
  {
   "cell_type": "code",
   "execution_count": 243,
   "metadata": {},
   "outputs": [
    {
     "name": "stdout",
     "output_type": "stream",
     "text": [
      "Num samples: 7907\n",
      "source\n",
      "vietjack      6967\n",
      "tailieumoi     919\n",
      "hamchoi         21\n",
      "Name: count, dtype: int64\n"
     ]
    }
   ],
   "source": [
    "import pandas as pd \n",
    "\n",
    "df = pd.DataFrame.from_records(hamchoi_questions + tailieumoi_questions + vietjack_questions)\n",
    "# print(len(df))\n",
    "# df = df.drop_duplicates(subset=[\"question\", \"answer\"])\n",
    "# print(len(df))\n",
    "# df = pd.DataFrame.from_records(df.to_dict(\"records\") + vietjack_questions)\n",
    "# print(len(df))\n",
    "df = df.drop_duplicates(subset=[\"question_text\", \"answer_text\"], keep=\"last\")\n",
    "print(f\"Num samples: {len(df)}\")\n",
    "print(df[\"source\"].value_counts())\n",
    "# data = df.to_dict(\"records\")"
   ]
  },
  {
   "cell_type": "code",
   "execution_count": 263,
   "metadata": {},
   "outputs": [
    {
     "name": "stdout",
     "output_type": "stream",
     "text": [
      "Num train samples: 6861\n",
      "Num test samples: 1046\n"
     ]
    }
   ],
   "source": [
    "from sklearn.model_selection import train_test_split\n",
    "\n",
    "train, test = train_test_split(df[df[\"source\"]==\"vietjack\"], test_size=0.15)\n",
    "train = pd.concat([train, df[df[\"source\"]!=\"vietjack\"]])\n",
    "print(f\"Num train samples: {len(train)}\")\n",
    "print(f\"Num test samples: {len(test)}\")"
   ]
  },
  {
   "cell_type": "code",
   "execution_count": 265,
   "metadata": {},
   "outputs": [],
   "source": [
    "import json\n",
    "def to_jsonl(data: list, output_path: str):\n",
    "    with open(output_path, \"w\", encoding=\"utf-8\") as f:\n",
    "        for s in data:\n",
    "            d = json.dumps(s, ensure_ascii=False) + \"\\n\"\n",
    "            f.write(d)"
   ]
  },
  {
   "cell_type": "code",
   "execution_count": 268,
   "metadata": {},
   "outputs": [],
   "source": [
    "to_jsonl(train.to_dict(\"records\"), \"/home/vinhnq29/Public/zalo_challenge_2023/data/ViMathQA/raw_train.jsonl\")\n",
    "to_jsonl(test.to_dict(\"records\"), \"/home/vinhnq29/Public/zalo_challenge_2023/data/ViMathQA/raw_test.jsonl\")"
   ]
  },
  {
   "cell_type": "code",
   "execution_count": null,
   "metadata": {},
   "outputs": [],
   "source": []
  },
  {
   "cell_type": "code",
   "execution_count": 267,
   "metadata": {},
   "outputs": [
    {
     "data": {
      "text/plain": [
       "{'url': 'https://khoahoc.vietjack.com/question/910685/tim-mot-so-biet-rang-khi-lay-so-do-cong-them-2-duoc-bao-nhieu-nhan-voi',\n",
       " 'question': '<h1 class=\"title-question overflow-x-el\">\\n <p>\\n  Tìm một số, biết rằng khi lấy số đó cộng thêm 2, được bao nhiêu nhân với 5 thì được kết quả là 45.\\n </p>\\n</h1>\\n',\n",
       " 'choices': ['<div class=\"option-choices js-answer answer-correct\" data-answer-id=\"4200609\" data-answer-value=\"Y\" id=\"answer-4200609\">\\n <label class=\"option-content overflow-x-el\">\\n  <p>\\n   A. 7\\n  </p>\\n </label>\\n <div class=\"option-answer-text move-to-top text-correct\">\\n  <strong>\\n   Đáp án chính xác\\n  </strong>\\n </div>\\n <div class=\"option-answer-text move-to-top\" id=\"text-4200609\">\\n </div>\\n</div>\\n'],\n",
       " 'answer': ['<div class=\"result\">\\n <p>\\n  Đáp án đúng là: A\\n </p>\\n <p>\\n  Trước khi nhân 5, số đó là:\\n </p>\\n <p>\\n  45 : 5 = 9\\n </p>\\n <p>\\n  Trước khi cộng thêm 2, số đó là:\\n </p>\\n <p>\\n  9 – 2 = 7\\n </p>\\n <p>\\n  Vậy số cần tìm là 7.\\n </p>\\n</div>\\n',\n",
       "  '<div class=\"option-choices js-answer answer-correct\" data-answer-id=\"4200609\" data-answer-value=\"Y\" id=\"answer-4200609\">\\n <label class=\"option-content overflow-x-el\">\\n  <p>\\n   A. 7\\n  </p>\\n </label>\\n <div class=\"option-answer-text move-to-top text-correct\">\\n  <strong>\\n   Đáp án chính xác\\n  </strong>\\n </div>\\n <div class=\"option-answer-text move-to-top\" id=\"text-4200609\">\\n </div>\\n</div>\\n'],\n",
       " 'question_text': 'Tìm một số, biết rằng khi lấy số đó cộng thêm 2, được bao nhiêu nhân với 5 thì được kết quả là 45.',\n",
       " 'answer_text': 'Đáp án đúng là: A Trước khi nhân 5, số đó là: 45 : 5 = 9 Trước khi cộng thêm 2, số đó là: 9 – 2 = 7 Vậy số cần tìm là 7.',\n",
       " 'source': 'vietjack'}"
      ]
     },
     "execution_count": 267,
     "metadata": {},
     "output_type": "execute_result"
    }
   ],
   "source": [
    "train.to_dict(\"records\")[0]"
   ]
  },
  {
   "cell_type": "code",
   "execution_count": null,
   "metadata": {},
   "outputs": [],
   "source": []
  },
  {
   "cell_type": "code",
   "execution_count": 240,
   "metadata": {},
   "outputs": [
    {
     "data": {
      "text/plain": [
       "url              https://khoahoc.vietjack.com/question/519805/t...\n",
       "question         <h1 class=\"title-question overflow-x-el\">\\n <p...\n",
       "choices          [<div class=\"option-choices js-answer answer-c...\n",
       "answer           [<div class=\"result\">\\n <p class=\"MsoNormal\" s...\n",
       "question_text    Trong các cách viết phân số sau, cách viết nào...\n",
       "answer_text      3 5 ; 18 1 ; 0 7 là các phân số vì có mẫu số k...\n",
       "source                                                    vietjack\n",
       "Name: 24584, dtype: object"
      ]
     },
     "execution_count": 240,
     "metadata": {},
     "output_type": "execute_result"
    }
   ],
   "source": [
    "df.iloc[-1]"
   ]
  },
  {
   "cell_type": "code",
   "execution_count": 236,
   "metadata": {},
   "outputs": [
    {
     "data": {
      "text/plain": [
       "{'url': 'https://hamchoi.vn/cau-hoi/371406/tim-mot-so-biet-rang-lay-so-do-nhan-voi-7-duoc-ket-qua-bao-nhieu-cong',\n",
       " 'question': '<div class=\"question-content\">\\n <h1 class=\"overflow-x-el\">\\n  <p>\\n   Tìm một số biết rằng lấy số đó nhân với 7 được kết quả bao nhiêu cộng với 29 thu được kết quả là số lớn nhất có hai chữ số.\\n  </p>\\n </h1>\\n</div>\\n',\n",
       " 'choices': ['<div class=\"answer-content\">\\n <h2 class=\"overflow-x-el\">\\n  <p>\\n   A. 7\\n  </p>\\n </h2>\\n</div>\\n',\n",
       "  '<div class=\"answer-content\">\\n <h2 class=\"overflow-x-el\">\\n  <p>\\n   B. 10\\n  </p>\\n </h2>\\n</div>\\n',\n",
       "  '<div class=\"answer-content\">\\n <h2 class=\"overflow-x-el\">\\n  <p>\\n   C. 14\\n  </p>\\n </h2>\\n</div>\\n',\n",
       "  '<div class=\"answer-content\">\\n <h2 class=\"overflow-x-el\">\\n  <p>\\n   D. 20\\n  </p>\\n </h2>\\n</div>\\n'],\n",
       " 'answer': '<div class=\"question-reason\">\\n <h2 class=\"overflow-x-el\">\\n  <p>\\n   Đáp án đúng là: B\\n  </p>\\n  <p>\\n   Số lớn nhất có hai chữ số là số 99\\n  </p>\\n  <p>\\n   99\\n  </p>\\n  <p>\\n   99\\n  </p>\\n  <p>\\n   + 29\\n  </p>\\n  <p>\\n   + 29\\n  </p>\\n  <p>\\n   x 7\\n  </p>\\n  <p>\\n   x 7\\n  </p>\\n  Ta có thể dùng sơ đồ để giải bài toán này như sau:\\n  <p>\\n   Trước khi cộng thêm 29, số đó là:\\n  </p>\\n  <p>\\n   99 – 29 = 70\\n  </p>\\n  <p>\\n   Số cần tìm là:\\n  </p>\\n  <p>\\n   70 : 7 = 10\\n  </p>\\n  <p>\\n   Vậy số cần tìm là 10.\\n  </p>\\n </h2>\\n</div>\\n',\n",
       " 'question_text': 'Tìm một số biết rằng lấy số đó nhân với 7 được kết quả bao nhiêu cộng với 29 thu được kết quả là số lớn nhất có hai chữ số.',\n",
       " 'answer_text': 'Đáp án đúng là: B Số lớn nhất có hai chữ số là số 99 99 99 + 29 + 29 x 7 x 7 Ta có thể dùng sơ đồ để giải bài toán này như sau: Trước khi cộng thêm 29, số đó là: 99 – 29 = 70 Số cần tìm là: 70 : 7 = 10 Vậy số cần tìm là 10.',\n",
       " 'source': 'hamchoi'}"
      ]
     },
     "execution_count": 236,
     "metadata": {},
     "output_type": "execute_result"
    }
   ],
   "source": [
    "df.iloc[0].to_dict()"
   ]
  },
  {
   "cell_type": "code",
   "execution_count": null,
   "metadata": {},
   "outputs": [],
   "source": []
  },
  {
   "cell_type": "code",
   "execution_count": 66,
   "metadata": {},
   "outputs": [],
   "source": [
    "import re\n",
    "TAG_PATTERN = re.compile(\"<(?:\\\"[^\\\"]*\\\"['\\\"]*|'[^']*'['\\\"]*|[^'\\\">])+>\", flags=re.I)"
   ]
  },
  {
   "cell_type": "code",
   "execution_count": 67,
   "metadata": {},
   "outputs": [],
   "source": [
    "tag_set = set()\n",
    "\n",
    "for sample in new_data:\n",
    "    s = sample[\"question\"] + \"####\" + \"####\".join(sample[\"choices\"]) + \"####\" + sample[\"answer\"]\n",
    "    tag_set.update(TAG_PATTERN.findall(sample[\"question\"]))\n",
    "    for choice in sample[\"choices\"]:\n",
    "        tag_set.update(TAG_PATTERN.findall(choice))\n",
    "    tag_set.update(TAG_PATTERN.findall(sample[\"answer\"]))"
   ]
  },
  {
   "cell_type": "code",
   "execution_count": 68,
   "metadata": {},
   "outputs": [
    {
     "data": {
      "text/plain": [
       "6270"
      ]
     },
     "execution_count": 68,
     "metadata": {},
     "output_type": "execute_result"
    }
   ],
   "source": [
    "len(tag_set)"
   ]
  },
  {
   "cell_type": "code",
   "execution_count": 43,
   "metadata": {},
   "outputs": [
    {
     "data": {
      "text/plain": [
       "['<span style=\"font-size: 14.0pt; line-height: 115%; font-family: \\'Times New Roman\\',\\'serif\\'; mso-fareast-font-family: Cambria; mso-ansi-language: EN-US; mso-fareast-language: EN-US; mso-bidi-language: KHM;\">',\n",
       " '<span lang=\"PL\" style=\"font-family: \\'Times New Roman\\', serif;\">',\n",
       " '<p class=\"MsoNormal\" style=\"margin-right: -73.8pt; text-align: justify; line-height: 115%;\">',\n",
       " '<span style=\"  mso-fareast- position: relative; top: 12.0pt; mso-text-raise: -12.0pt; mso-ansi-language: EN-US; mso-fareast-language: EN-US; mso-bidi-language: AR-SA;\">',\n",
       " '<span lang=\"DE\" style=\"font-family: \\'Times New Roman\\',\\'serif\\'; mso-ansi-language: DE;\">',\n",
       " '<o:OLEObject Type=\"Embed\" ProgID=\"Equation.DSMT4\" ShapeID=\"_x0000_i1025\"  DrawAspect=\"Content\" ObjectID=\"_1657055941\">',\n",
       " '<p style=\"mso-para-margin-top: .5gd; mso-para-margin-right: 0in; mso-para-margin-bottom: .5gd; mso-para-margin-left: 0in; text-align: justify;  background: white; vertical-align: baseline; margin: 6.0pt 0in 6.0pt 0in;\">',\n",
       " '<p class=\"MsoNormal\" style=\"margin-left: 45.0pt; tab-stops: .5in 2.0in 3.5in 5.0in;\">',\n",
       " '<p class=\"MsoNormal\" style=\"margin: 6.0pt 0cm 6.0pt 0cm;\">',\n",
       " '<span style=\"color: black; mso-color-alt: windowtext; mso-no-proof: yes;\">',\n",
       " '<span style=\"  mso-fareast- mso-ansi-language: EN-GB; mso-fareast-language: EN-US; mso-bidi-language: AR-SA;\">',\n",
       " '<span style=\" mso-bidi-  mso-ansi-language: FR; mso-bidi-font-weight: bold;\">',\n",
       " '<span style=\"font-size: 14.0pt; line-height: 200%;\">',\n",
       " '<p class=\"MsoNormal\" style=\"text-align: justify;  mso-outline-level: 2; tab-stops: 49.5pt 70.9pt 139.5pt 4.0in 369.0pt; margin: 6.0pt 0in 6.0pt 49.6pt;\">',\n",
       " '<p class=\"MsoListParagraph\" style=\"mso-add-space: auto; text-indent: -18.0pt; line-height: normal; mso-list: l0 level1 lfo1; margin: 0cm 0cm 7.5pt 18.0pt;\">',\n",
       " '<p class=\"MsoNormal\" style=\"margin-right: 10.3pt; line-height: 150%;\">',\n",
       " '<o:OLEObject Type=\"Embed\" ProgID=\"Equation.DSMT4\" ShapeID=\"_x0000_i1026\"  DrawAspect=\"Content\" ObjectID=\"_1656957032\">',\n",
       " '<span lang=\"EN-US\" style=\"font-size: 14pt; font-family: \\'Times New Roman\\', serif;\">',\n",
       " '<span style=\" mso-bidi-  mso-bidi- mso-ansi-language: AF; mso-bidi-font-weight: bold;\">',\n",
       " '<em style=\"text-indent: -23.8px;\">']"
      ]
     },
     "execution_count": 43,
     "metadata": {},
     "output_type": "execute_result"
    }
   ],
   "source": [
    "list(tag_set)[:20]"
   ]
  },
  {
   "cell_type": "code",
   "execution_count": 76,
   "metadata": {},
   "outputs": [],
   "source": [
    "# RULE\n",
    "# remove <div>, <h>\n",
    "# normalize <span>, <p>\n",
    "new_tag_set = set()\n",
    "for tag in list(tag_set):\n",
    "    tmp = tag.split()[0]\n",
    "    if \"<spanstyle\" in tmp or tmp == \"<!--\":\n",
    "        pass\n",
    "    else:\n",
    "        tag = tmp+\">\" if tmp[-1]!=\">\" else tmp\n",
    "    new_tag_set.add(tag)"
   ]
  },
  {
   "cell_type": "code",
   "execution_count": 201,
   "metadata": {},
   "outputs": [
    {
     "data": {
      "text/plain": [
       "177"
      ]
     },
     "execution_count": 201,
     "metadata": {},
     "output_type": "execute_result"
    }
   ],
   "source": [
    "len(new_tag_set)"
   ]
  },
  {
   "cell_type": "code",
   "execution_count": 78,
   "metadata": {},
   "outputs": [
    {
     "data": {
      "text/plain": [
       "177"
      ]
     },
     "execution_count": 78,
     "metadata": {},
     "output_type": "execute_result"
    }
   ],
   "source": [
    "len(new_tag_set)"
   ]
  },
  {
   "cell_type": "code",
   "execution_count": 79,
   "metadata": {},
   "outputs": [
    {
     "data": {
      "text/plain": [
       "['<m:sSupPr>',\n",
       " '<!--\\xa0-->',\n",
       " '<m:den>',\n",
       " '</xml>',\n",
       " '</li>',\n",
       " '</mfenced>',\n",
       " '<msline>',\n",
       " '<m:e>',\n",
       " '<m:r>',\n",
       " '</h4>',\n",
       " '<strong>',\n",
       " '</mi>',\n",
       " '</m:den>',\n",
       " '</tr>',\n",
       " '<!-- [if !vml]-->',\n",
       " \"<spanstyle='mso-spacerun:yes'>\",\n",
       " '</m:oMathPara>',\n",
       " '<v:shape>',\n",
       " '</m:oMath>',\n",
       " '<spanstyle=\\'font-size:14.0pt;font-family:\"Times New Roman\",serif;mso-fareast-font-family:\"Times New Roman\";mso-ansi-language:EN-US;mso-fareast-language:EN-US;mso-bidi-language:AR-SA;mso-bidi-font-weight:bold\\'>',\n",
       " '</v:shape>',\n",
       " '<span>',\n",
       " '</div>',\n",
       " '<v:f>',\n",
       " '<tr>',\n",
       " '<u>',\n",
       " '<v:formulas>',\n",
       " '<m:nor/>',\n",
       " '</msqrt>',\n",
       " '</msubsup>',\n",
       " '<m:d>',\n",
       " '</sub>',\n",
       " '<mstack>',\n",
       " '<h1>',\n",
       " '</i>',\n",
       " '</mn>',\n",
       " '</a>',\n",
       " '<mn>',\n",
       " '<mi>',\n",
       " '</mspace>',\n",
       " '<msup>',\n",
       " '</math>',\n",
       " '<msrow>',\n",
       " '<m:ctrlPr>',\n",
       " '</mfrac>',\n",
       " '</o:OLEObject>',\n",
       " '<mstyle>',\n",
       " '<a>',\n",
       " \"<spanstyle='mso-element:field-end'>\",\n",
       " '<div>',\n",
       " '</ul>',\n",
       " '<h4>',\n",
       " \"<spanstyle='mso-element:field-begin'>\",\n",
       " '</mo>',\n",
       " '</em>',\n",
       " '</m:acc>',\n",
       " '<m:acc>',\n",
       " '<m:scr>',\n",
       " '<v:rect>',\n",
       " '<mrow>',\n",
       " '<ol>',\n",
       " '<!--)-->',\n",
       " '<!-- [if gte vml 1]>',\n",
       " '</pre>',\n",
       " '<v:path>',\n",
       " '<i<br>',\n",
       " '<p>',\n",
       " '<m:num>',\n",
       " '</mover>',\n",
       " '</m:accPr>',\n",
       " '</menclose>',\n",
       " '</msline>',\n",
       " '<spanstyle=\\'font-size:14.0pt;line-height:150%;font-family:\"Times New Roman\",\"serif\"\\'>',\n",
       " '<o:OLEObject>',\n",
       " '</v:formulas>',\n",
       " '</h1>',\n",
       " '<!--,-->',\n",
       " '<!-- [if !supportLists]-->',\n",
       " '</h2>',\n",
       " '</none>',\n",
       " '<msubsup>',\n",
       " '<spanstyle=\\'font-size:14.0pt;line-height:115%;font-family:\"Times New Roman\",\"serif\";mso-fareast-font-family:Calibri;mso-fareast-theme-font:minor-latin;mso-bidi-theme-font:minor-bidi;mso-ansi-language:EN-US;mso-fareast-language:EN-US;mso-bidi-language:AR-SA\\'>',\n",
       " '<!-- [if gte msEquation 12]>',\n",
       " '<spanlang=NL>',\n",
       " '<ins>',\n",
       " '<h3>',\n",
       " '</mtext>',\n",
       " '<ul>',\n",
       " '<m:rPr>',\n",
       " '<br/>',\n",
       " '<o:lock>',\n",
       " '</u>',\n",
       " '</m:ctrlPr>',\n",
       " '</mstyle>',\n",
       " '</h3>',\n",
       " '<sub>',\n",
       " '</ins>',\n",
       " '<!--;-->',\n",
       " '<spanlang=VI>',\n",
       " \"<spanstyle='font-size:14.0pt;mso-bidi-font-size:12.0pt'>\",\n",
       " '<mo>',\n",
       " '<![endif]-->',\n",
       " '<!-- [if !supportLineBreakNewLine]-->',\n",
       " '<mtext>',\n",
       " '<spanstyle=\\'font-size:14.0pt;font-family:\"Times New Roman\",serif;mso-fareast-font-family:\"Times New Roman\";mso-ansi-language:EN-US;mso-fareast-language:EN-US;mso-bidi-language:AR-SA\\'>',\n",
       " '</v:shapetype>',\n",
       " '</m:sSupPr>',\n",
       " '<pre>',\n",
       " '<!-- [if supportFields]>',\n",
       " '</strong>',\n",
       " '</mrow>',\n",
       " '</msup>',\n",
       " '<none>',\n",
       " '</m:e>',\n",
       " '</sup>',\n",
       " '</m:dPr>',\n",
       " '<!--</p-->',\n",
       " '</munder>',\n",
       " '</m:d>',\n",
       " \"<spanstyle='mso-bidi-font-size:14.0pt;line-height:115%'>\",\n",
       " '</m:r>',\n",
       " \"<spanstyle='font-size:14.0pt;line-height:115%'>\",\n",
       " '</m:sSup>',\n",
       " '</m:fPr>',\n",
       " '</msub>',\n",
       " '<spanlang=PT-BR>',\n",
       " '<m:chr>',\n",
       " '<m:f>',\n",
       " '<br>',\n",
       " \"<spanstyle='color:black;mso-themecolor:text1'>\",\n",
       " '<munder>',\n",
       " '</mstack>',\n",
       " '</m:rPr>',\n",
       " '<menclose>',\n",
       " '<m:sty>',\n",
       " '<span<br>',\n",
       " '<msqrt>',\n",
       " '<!-- [if !mso]-->',\n",
       " '<m:oMathPara>',\n",
       " '<v:imagedata>',\n",
       " '<!--</strong-->',\n",
       " '<m:sup>',\n",
       " '<m:accPr>',\n",
       " '<math>',\n",
       " '</span>',\n",
       " '</ol>',\n",
       " '</m:f>',\n",
       " '<m:dPr>',\n",
       " '<sup>',\n",
       " '<h2>',\n",
       " '</msrow>',\n",
       " '<mfenced>',\n",
       " '<mover>',\n",
       " '<td>',\n",
       " '<msub>',\n",
       " '<xml>',\n",
       " '<m:oMath>',\n",
       " '<v:textbox>',\n",
       " '<i>',\n",
       " '</m:sup>',\n",
       " '<m:sSup>',\n",
       " '</m:num>',\n",
       " '<v:stroke>',\n",
       " '</p>',\n",
       " '<em>',\n",
       " '<v:shapetype>',\n",
       " '</td>',\n",
       " '<mspace>',\n",
       " '<mfrac>',\n",
       " '</b>',\n",
       " '<m:fPr>',\n",
       " '<!-- [if !supportFields]-->',\n",
       " '<!-- [if !msEquation]-->',\n",
       " '<b>',\n",
       " '<!-- [if gte mso 9]>',\n",
       " '<li>',\n",
       " '<!--[endif]-->']"
      ]
     },
     "execution_count": 79,
     "metadata": {},
     "output_type": "execute_result"
    }
   ],
   "source": [
    "list(new_tag_set)"
   ]
  },
  {
   "cell_type": "code",
   "execution_count": null,
   "metadata": {},
   "outputs": [],
   "source": [
    "# RULE\n",
    "# remove <div>, <h>\n",
    "# normalize <span>, <p>"
   ]
  },
  {
   "cell_type": "code",
   "execution_count": 80,
   "metadata": {},
   "outputs": [
    {
     "name": "stdout",
     "output_type": "stream",
     "text": [
      "https://hamchoi.vn/cau-hoi/368225/rut-gon-phan-so-4-12-ta-duoc-phan-so-nao-duoi-day\n",
      "<div class=\"question-content\">\n",
      " <h1 class=\"overflow-x-el\">\n",
      "  <p class=\"MsoNormal\" style=\"line-height: normal;\">\n",
      "   <strong style=\"mso-bidi-font-weight: normal;\">\n",
      "    <span style=\"font-size: 14.0pt; font-family: 'Times New Roman',serif;\">\n",
      "     A- Phần trắc nghiệm:\n",
      "    </span>\n",
      "   </strong>\n",
      "  </p>\n",
      "  <p class=\"MsoNormal\" style=\"line-height: normal;\">\n",
      "   <strong style=\"font-size: 18.6667px; text-align: center;\">\n",
      "    <span lang=\"NL\" style=\"font-size: 14pt; font-family: 'Times New Roman', serif;\">\n",
      "     Khoanh tròn vào chữ cái in hoa trước câu trả lời đúng:\n",
      "    </span>\n",
      "   </strong>\n",
      "  </p>\n",
      "  <p class=\"MsoNormal\" style=\"line-height: normal;\">\n",
      "   <span lang=\"NL\" style=\"font-size: 14.0pt; line-height: 150%; font-family: 'Times New Roman',serif; mso-fareast-font-family: 'Times New Roman'; mso-ansi-language: NL; mso-fareast-language: EN-US; mso-bidi-language: AR-SA;\">\n",
      "    Rút gọn phân số\n",
      "    <math xmlns=\"http://www.w3.org/1998/Math/MathML\">\n",
      "     <mfrac>\n",
      "      <mn>\n",
      "       4\n",
      "      </mn>\n",
      "      <mn>\n",
      "       12\n",
      "      </mn>\n",
      "     </mfrac>\n",
      "    </math>\n",
      "   </span>\n",
      "   <!-- [if supportFields]><span lang=NL style='font-size:14.0pt;line-height:150%;font-family:\"Times New Roman\",serif;mso-fareast-font-family:\"Times New Roman\";mso-ansi-language:NL;mso-fareast-language:EN-US;mso-bidi-language:AR-SA'><span style='mso-element:field-begin'></span>eq \\s\\don1(\\f(4,12))</span><![endif]-->\n",
      "   <!-- [if supportFields]><spanlang=NL style='font-size:14.0pt;line-height:150%;font-family:\"Times New Roman\",serif;mso-fareast-font-family:\"Times New Roman\";mso-ansi-language:NL;mso-fareast-language:EN-US;mso-bidi-language:AR-SA'><span style='mso-element:field-end'></span></span><![endif]-->\n",
      "   <span lang=\"NL\" style=\"font-size: 14.0pt; line-height: 150%; font-family: 'Times New Roman',serif; mso-fareast-font-family: 'Times New Roman'; mso-ansi-language: NL; mso-fareast-language: EN-US; mso-bidi-language: AR-SA;\">\n",
      "    ta được phân số nào dưới đây\n",
      "   </span>\n",
      "  </p>\n",
      " </h1>\n",
      "</div>\n",
      "\n",
      "['<div class=\"answer-content\">\\n <h2 class=\"overflow-x-el\">\\n  <p>\\n   A.\\n   <math xmlns=\"http://www.w3.org/1998/Math/MathML\">\\n    <mfrac>\\n     <mn>\\n      2\\n     </mn>\\n     <mn>\\n      3\\n     </mn>\\n    </mfrac>\\n   </math>\\n  </p>\\n </h2>\\n</div>\\n', '<div class=\"answer-content\">\\n <h2 class=\"overflow-x-el\">\\n  <p>\\n   B.\\n   <math xmlns=\"http://www.w3.org/1998/Math/MathML\">\\n    <mfrac>\\n     <mn>\\n      1\\n     </mn>\\n     <mn>\\n      3\\n     </mn>\\n    </mfrac>\\n   </math>\\n  </p>\\n </h2>\\n</div>\\n', '<div class=\"answer-content\">\\n <h2 class=\"overflow-x-el\">\\n  <p>\\n   C.\\n   <math xmlns=\"http://www.w3.org/1998/Math/MathML\">\\n    <mfrac>\\n     <mn>\\n      8\\n     </mn>\\n     <mn>\\n      24\\n     </mn>\\n    </mfrac>\\n   </math>\\n  </p>\\n </h2>\\n</div>\\n', '<div class=\"answer-content\">\\n <h2 class=\"overflow-x-el\">\\n  <p>\\n   D.\\n   <math xmlns=\"http://www.w3.org/1998/Math/MathML\">\\n    <mfrac>\\n     <mn>\\n      3\\n     </mn>\\n     <mn>\\n      5\\n     </mn>\\n    </mfrac>\\n   </math>\\n  </p>\\n </h2>\\n</div>\\n']\n",
      "<div class=\"question-reason\">\n",
      " <h2 class=\"overflow-x-el\">\n",
      "  <p>\n",
      "   <strong>\n",
      "    Chọn B\n",
      "   </strong>\n",
      "  </p>\n",
      " </h2>\n",
      "</div>\n",
      "\n"
     ]
    }
   ],
   "source": [
    "for sample in new_data:\n",
    "    s = sample[\"question\"] + \"####\" + \"####\".join(sample[\"choices\"]) + \"####\" + sample[\"answer\"]\n",
    "    if \"<spanlang=NL\" in s:\n",
    "        print(sample[\"url\"])\n",
    "        print(sample[\"question\"])\n",
    "        print(sample[\"choices\"])\n",
    "        print(sample[\"answer\"])\n",
    "        break"
   ]
  },
  {
   "cell_type": "code",
   "execution_count": 40,
   "metadata": {},
   "outputs": [
    {
     "data": {
      "text/plain": [
       "['<div class=\"question-content\">',\n",
       " '<h1 class=\"overflow-x-el\">',\n",
       " '<div>',\n",
       " '<p class=\"MsoNormal\">',\n",
       " '<span style=\"  \">',\n",
       " '</span>',\n",
       " '</p>',\n",
       " '</div>',\n",
       " '</h1>',\n",
       " '</div>']"
      ]
     },
     "execution_count": 40,
     "metadata": {},
     "output_type": "execute_result"
    }
   ],
   "source": [
    "TAG_PATTERN.findall(new_data[0][\"question\"])"
   ]
  },
  {
   "cell_type": "code",
   "execution_count": 74,
   "metadata": {},
   "outputs": [
    {
     "name": "stdout",
     "output_type": "stream",
     "text": [
      "<div class=\"answer-content\">\n",
      " <h2 class=\"overflow-x-el\">\n",
      "  <p>\n",
      "   B. &lt;\n",
      "  </p>\n",
      "  <!--</p-->\n",
      " </h2>\n",
      "</div>\n",
      "\n"
     ]
    }
   ],
   "source": [
    "print('<div class=\"answer-content\">\\n <h2 class=\"overflow-x-el\">\\n  <p>\\n   B. &lt;\\n  </p>\\n  <!--</p-->\\n </h2>\\n</div>\\n')"
   ]
  },
  {
   "cell_type": "code",
   "execution_count": null,
   "metadata": {},
   "outputs": [],
   "source": []
  },
  {
   "cell_type": "code",
   "execution_count": null,
   "metadata": {},
   "outputs": [],
   "source": []
  },
  {
   "cell_type": "code",
   "execution_count": null,
   "metadata": {},
   "outputs": [],
   "source": []
  },
  {
   "cell_type": "code",
   "execution_count": null,
   "metadata": {},
   "outputs": [],
   "source": []
  },
  {
   "cell_type": "code",
   "execution_count": null,
   "metadata": {},
   "outputs": [],
   "source": []
  },
  {
   "cell_type": "markdown",
   "metadata": {},
   "source": [
    "# Test pandoc to convert from html5 to markdown format"
   ]
  },
  {
   "cell_type": "code",
   "execution_count": 1,
   "metadata": {},
   "outputs": [
    {
     "name": "stdout",
     "output_type": "stream",
     "text": [
      "hello\n"
     ]
    }
   ],
   "source": [
    "print(\"hello\")"
   ]
  },
  {
   "cell_type": "code",
   "execution_count": null,
   "metadata": {},
   "outputs": [],
   "source": []
  },
  {
   "cell_type": "code",
   "execution_count": null,
   "metadata": {},
   "outputs": [],
   "source": []
  },
  {
   "cell_type": "markdown",
   "metadata": {},
   "source": [
    "# Process OpenMathInstruct-1 dataset"
   ]
  },
  {
   "cell_type": "code",
   "execution_count": 173,
   "metadata": {},
   "outputs": [
    {
     "name": "stderr",
     "output_type": "stream",
     "text": [
      "1579780it [00:10, 147264.02it/s]\n"
     ]
    }
   ],
   "source": [
    "import json\n",
    "from tqdm import tqdm\n",
    "\n",
    "data = []\n",
    "with open(\"/home/vinhnq29/Public/zalo_challenge_2023/data/OpenMathInstruct-1/correct_solutions/train.jsonl\") as f:\n",
    "    for line in tqdm(f):\n",
    "        s = json.loads(line)\n",
    "        if s[\"dataset\"] == \"gsm8k\":\n",
    "            data.append(s)"
   ]
  },
  {
   "cell_type": "code",
   "execution_count": 153,
   "metadata": {},
   "outputs": [
    {
     "name": "stdout",
     "output_type": "stream",
     "text": [
      "Let's solve this problem using Python code.\n",
      "<llm-code>\n",
      "amount_of_lost_crayons = 18 / 2\n",
      "amount_of_new_crayons = 20\n",
      "total_amount = amount_of_lost_crayons + amount_of_new_crayons\n",
      "total_amount\n",
      "</llm-code>\n",
      "<llm-code-output>\n",
      "29.0\n",
      "</llm-code-output>\n",
      "Thus Martha has \\boxed{29} crayons in total.\n"
     ]
    }
   ],
   "source": [
    "print(data[0][\"generated_solution\"])"
   ]
  },
  {
   "cell_type": "code",
   "execution_count": 196,
   "metadata": {},
   "outputs": [
    {
     "data": {
      "text/plain": [
       "897996"
      ]
     },
     "execution_count": 196,
     "metadata": {},
     "output_type": "execute_result"
    }
   ],
   "source": [
    "len(data)"
   ]
  },
  {
   "cell_type": "code",
   "execution_count": 199,
   "metadata": {},
   "outputs": [
    {
     "name": "stdout",
     "output_type": "stream",
     "text": [
      "Let's solve this problem using Python code.\n",
      "<llm-code>\n",
      "amount_of_lost_crayons = 18 / 2\n",
      "amount_of_new_crayons = 20\n",
      "total_amount = amount_of_lost_crayons + amount_of_new_crayons\n",
      "total_amount\n",
      "</llm-code>\n",
      "<llm-code-output>\n",
      "29.0\n",
      "</llm-code-output>\n",
      "Thus Martha has \\boxed{29} crayons in total.\n"
     ]
    }
   ],
   "source": [
    "print(data[0][\"generated_solution\"])"
   ]
  },
  {
   "cell_type": "code",
   "execution_count": 200,
   "metadata": {},
   "outputs": [
    {
     "data": {
      "text/plain": [
       "29.0"
      ]
     },
     "execution_count": 200,
     "metadata": {},
     "output_type": "execute_result"
    }
   ],
   "source": [
    "amount_of_lost_crayons = 18 / 2\n",
    "amount_of_new_crayons = 20\n",
    "total_amount = amount_of_lost_crayons + amount_of_new_crayons\n",
    "total_amount"
   ]
  },
  {
   "cell_type": "code",
   "execution_count": null,
   "metadata": {},
   "outputs": [],
   "source": []
  }
 ],
 "metadata": {
  "kernelspec": {
   "display_name": "zac2023",
   "language": "python",
   "name": "python3"
  },
  "language_info": {
   "codemirror_mode": {
    "name": "ipython",
    "version": 3
   },
   "file_extension": ".py",
   "mimetype": "text/x-python",
   "name": "python",
   "nbconvert_exporter": "python",
   "pygments_lexer": "ipython3",
   "version": "3.10.13"
  }
 },
 "nbformat": 4,
 "nbformat_minor": 2
}
