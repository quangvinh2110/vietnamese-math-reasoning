{
 "cells": [
  {
   "cell_type": "markdown",
   "metadata": {},
   "source": [
    "# GET QUESTIONS LINKS "
   ]
  },
  {
   "cell_type": "code",
   "execution_count": 1,
   "metadata": {},
   "outputs": [],
   "source": [
    "import requests\n",
    "from bs4 import BeautifulSoup\n",
    "from tqdm import tqdm"
   ]
  },
  {
   "cell_type": "code",
   "execution_count": null,
   "metadata": {},
   "outputs": [],
   "source": [
    "URL_prefix = \"https://tailieumoi.vn/danh-sach-cau-hoi?lop=5&mon=1&page=\"\n",
    "links = []\n",
    "for i in tqdm(range(1, 321)):\n",
    "    page = requests.get(URL_prefix + str(i))\n",
    "    soup = BeautifulSoup(page.content, \"html.parser\")\n",
    "    results = soup.find_all(\"a\", {\"class\": \"cl3 fs-18\"}, href=True)\n",
    "    for result in results:\n",
    "        links.append(result[\"href\"])\n",
    "        \n",
    "# open file in write mode\n",
    "with open(\"/home/vinhnq29/Public/zalo_challenge_2023/data/tailieumoi/toan5_links.txt\", 'a') as fp:\n",
    "    for link in links:\n",
    "        # write each item on a new line\n",
    "        fp.write(\"%s\\n\" % link)\n",
    "    print('Done')"
   ]
  },
  {
   "cell_type": "code",
   "execution_count": null,
   "metadata": {},
   "outputs": [],
   "source": [
    "URL_prefix = \"https://tailieumoi.vn/danh-sach-cau-hoi?lop=4&mon=1&page=\"\n",
    "links = []\n",
    "for i in tqdm(range(1, 184)):\n",
    "    page = requests.get(URL_prefix + str(i))\n",
    "    soup = BeautifulSoup(page.content, \"html.parser\")\n",
    "    results = soup.find_all(\"a\", {\"class\": \"cl3 fs-18\"}, href=True)\n",
    "    for result in results:\n",
    "        links.append(result[\"href\"])\n",
    "        \n",
    "# open file in write mode\n",
    "with open(\"/home/vinhnq29/Public/zalo_challenge_2023/data/tailieumoi/toan4_links.txt\", 'a') as fp:\n",
    "    for link in links:\n",
    "        # write each item on a new line\n",
    "        fp.write(\"%s\\n\" % link)\n",
    "    print('Done')"
   ]
  },
  {
   "cell_type": "code",
   "execution_count": null,
   "metadata": {},
   "outputs": [],
   "source": [
    "URL_prefix = \"https://tailieumoi.vn/danh-sach-cau-hoi?lop=3&mon=1&page=\"\n",
    "links = []\n",
    "for i in tqdm(range(1, 116)):\n",
    "    page = requests.get(URL_prefix + str(i))\n",
    "    soup = BeautifulSoup(page.content, \"html.parser\")\n",
    "    results = soup.find_all(\"a\", {\"class\": \"cl3 fs-18\"}, href=True)\n",
    "    for result in results:\n",
    "        links.append(result[\"href\"])\n",
    "        \n",
    "# open file in write mode\n",
    "with open(\"/home/vinhnq29/Public/zalo_challenge_2023/data/tailieumoi/toan3_links.txt\", 'a') as fp:\n",
    "    for link in links:\n",
    "        # write each item on a new line\n",
    "        fp.write(\"%s\\n\" % link)\n",
    "    print('Done')"
   ]
  },
  {
   "cell_type": "code",
   "execution_count": null,
   "metadata": {},
   "outputs": [],
   "source": [
    "# CRAWL TOAN 3\n",
    "URL_prefix = \"https://hamchoi.vn/cau-hoi?lop=lop-3&mon=toan&page=\"\n",
    "links = []\n",
    "for i in tqdm(range(1, 307)):\n",
    "    page = requests.get(URL_prefix + str(i))\n",
    "    soup = BeautifulSoup(page.content, \"html.parser\")\n",
    "    results = soup.find_all(\"a\", {\"class\": \"cl3 fs-18\"}, href=True)\n",
    "    for result in results:\n",
    "        links.append(result[\"href\"])\n",
    "        \n",
    "# open file in write mode\n",
    "with open(\"/home/vinhnq29/Public/zalo_challenge_2023/data/hamchoi/toan3_links.txt\", 'a') as fp:\n",
    "    for link in links:\n",
    "        # write each item on a new line\n",
    "        fp.write(\"%s\\n\" % link)\n",
    "    print('Done')"
   ]
  },
  {
   "cell_type": "code",
   "execution_count": null,
   "metadata": {},
   "outputs": [],
   "source": [
    "# CRAWL TOAN 4\n",
    "URL_prefix = \"https://hamchoi.vn/cau-hoi?lop=lop-4&mon=toan&page=\"\n",
    "links = []\n",
    "for i in tqdm(range(1, 308)):\n",
    "    page = requests.get(URL_prefix + str(i))\n",
    "    soup = BeautifulSoup(page.content, \"html.parser\")\n",
    "    results = soup.find_all(\"a\", {\"class\": \"cl3 fs-18\"}, href=True)\n",
    "    for result in results:\n",
    "        links.append(result[\"href\"])\n",
    "        \n",
    "# open file in write mode\n",
    "with open(\"/home/vinhnq29/Public/zalo_challenge_2023/data/hamchoi/toan4_links.txt\", 'a') as fp:\n",
    "    for link in links:\n",
    "        # write each item on a new line\n",
    "        fp.write(\"%s\\n\" % link)\n",
    "    print('Done')"
   ]
  },
  {
   "cell_type": "code",
   "execution_count": null,
   "metadata": {},
   "outputs": [],
   "source": [
    "# CRAWL TOAN 5\n",
    "URL_prefix = \"https://hamchoi.vn/cau-hoi?lop=lop-5&mon=toan&page=\"\n",
    "links = []\n",
    "for i in tqdm(range(1, 308)):\n",
    "    page = requests.get(URL_prefix + str(i))\n",
    "    soup = BeautifulSoup(page.content, \"html.parser\")\n",
    "    results = soup.find_all(\"a\", {\"class\": \"cl3 fs-18\"}, href=True)\n",
    "    for result in results:\n",
    "        links.append(result[\"href\"])\n",
    "        \n",
    "# open file in write mode\n",
    "with open(\"/home/vinhnq29/Public/zalo_challenge_2023/data/hamchoi/toan5_links.txt\", 'a') as fp:\n",
    "    for link in links:\n",
    "        # write each item on a new line\n",
    "        fp.write(\"%s\\n\" % link)\n",
    "    print('Done')"
   ]
  },
  {
   "cell_type": "code",
   "execution_count": null,
   "metadata": {},
   "outputs": [],
   "source": [
    "# CRAWL TOAN 3\n",
    "URL_prefix = \"https://khoahoc.vietjack.com/cau-hoi/mon-Toan/Lop-3?page=\"\n",
    "links = []\n",
    "for i in tqdm(range(1, 429)):\n",
    "    page = requests.get(URL_prefix + str(i))\n",
    "    soup = BeautifulSoup(page.content, \"html.parser\")\n",
    "    results = [item.a for item in soup.find_all(\"div\", {\"class\": \"cau-hoi-list-item-title overflow-x-el\"})]\n",
    "    for result in results:\n",
    "        links.append(result[\"href\"])\n",
    "        \n",
    "# open file in write mode\n",
    "with open(\"/home/vinhnq29/Public/zalo_challenge_2023/data/vietjack/toan3_links.txt\", \"a\") as fp:\n",
    "    for link in links:\n",
    "        # write each item on a new line\n",
    "        fp.write(\"%s\\n\" % link)"
   ]
  },
  {
   "cell_type": "code",
   "execution_count": null,
   "metadata": {},
   "outputs": [],
   "source": [
    "# CRAWL TOAN 4\n",
    "URL_prefix = \"https://khoahoc.vietjack.com/cau-hoi/mon-Toan/Lop-4?page=\"\n",
    "links = []\n",
    "for i in tqdm(range(1, 441)):\n",
    "    page = requests.get(URL_prefix + str(i))\n",
    "    soup = BeautifulSoup(page.content, \"html.parser\")\n",
    "    results = [item.a for item in soup.find_all(\"div\", {\"class\": \"cau-hoi-list-item-title overflow-x-el\"})]\n",
    "    for result in results:\n",
    "        links.append(result[\"href\"])\n",
    "        \n",
    "# open file in write mode\n",
    "with open(\"/home/vinhnq29/Public/zalo_challenge_2023/data/vietjack/toan4_links.txt\", \"a\") as fp:\n",
    "    for link in links:\n",
    "        # write each item on a new line\n",
    "        fp.write(\"%s\\n\" % link)"
   ]
  },
  {
   "cell_type": "code",
   "execution_count": null,
   "metadata": {},
   "outputs": [],
   "source": [
    "# CRAWL TOAN 4\n",
    "URL_prefix = \"https://khoahoc.vietjack.com/cau-hoi/mon-Toan/Lop-5?page=\"\n",
    "links = []\n",
    "for i in tqdm(range(1, 398)):\n",
    "    page = requests.get(URL_prefix + str(i))\n",
    "    soup = BeautifulSoup(page.content, \"html.parser\")\n",
    "    results = [item.a for item in soup.find_all(\"div\", {\"class\": \"cau-hoi-list-item-title overflow-x-el\"})]\n",
    "    for result in results:\n",
    "        links.append(result[\"href\"])\n",
    "        \n",
    "# open file in write mode\n",
    "with open(\"/home/vinhnq29/Public/zalo_challenge_2023/data/vietjack/toan5_links.txt\", \"a\") as fp:\n",
    "    for link in links:\n",
    "        # write each item on a new line\n",
    "        fp.write(\"%s\\n\" % link)"
   ]
  },
  {
   "cell_type": "markdown",
   "metadata": {},
   "source": [
    "# Deduplicate questions"
   ]
  },
  {
   "cell_type": "code",
   "execution_count": null,
   "metadata": {},
   "outputs": [],
   "source": []
  },
  {
   "cell_type": "code",
   "execution_count": null,
   "metadata": {},
   "outputs": [],
   "source": []
  },
  {
   "cell_type": "code",
   "execution_count": null,
   "metadata": {},
   "outputs": [],
   "source": []
  },
  {
   "cell_type": "code",
   "execution_count": null,
   "metadata": {},
   "outputs": [],
   "source": []
  },
  {
   "cell_type": "markdown",
   "metadata": {},
   "source": [
    "# Process OpenMathInstruct-1 dataset"
   ]
  },
  {
   "cell_type": "code",
   "execution_count": null,
   "metadata": {},
   "outputs": [],
   "source": [
    "import json\n",
    "from tqdm import tqdm\n",
    "\n",
    "data = []\n",
    "with open(\"/home/vinhnq29/Public/zalo_challenge_2023/data/OpenMathInstruct-1/correct_solutions/train.jsonl\") as f:\n",
    "    for line in tqdm(f):\n",
    "        s = json.loads(line)\n",
    "        if s[\"dataset\"] == \"gsm8k\":\n",
    "            data.append(s)"
   ]
  },
  {
   "cell_type": "code",
   "execution_count": null,
   "metadata": {},
   "outputs": [],
   "source": [
    "import json\n",
    "\n",
    "question_list = []\n",
    "with open(\"/home/vinhnq29/Public/zalo_challenge_2023/data/OpenMathInstruct-1/correct_solutions/train_questions.jsonl\", \"a\") as f:\n",
    "    for s in tqdm(data):\n",
    "        if s[\"question\"] not in question_list:\n",
    "            d = json.dumps({\"en\": s[\"question\"]}, ensure_ascii=False) + \"\\n\"\n",
    "            f.write(d)\n",
    "            question_list.append(s[\"question\"])\n",
    "\n",
    "with open(\"/home/vinhnq29/Public/zalo_challenge_2023/data/OpenMathInstruct-1/correct_solutions/train_questions.txt\", \"w\") as f:\n",
    "    for ques in question_list:\n",
    "        f.write(ques + \"\\n\")"
   ]
  },
  {
   "cell_type": "code",
   "execution_count": null,
   "metadata": {},
   "outputs": [],
   "source": []
  }
 ],
 "metadata": {
  "kernelspec": {
   "display_name": "zac2023",
   "language": "python",
   "name": "python3"
  },
  "language_info": {
   "codemirror_mode": {
    "name": "ipython",
    "version": 3
   },
   "file_extension": ".py",
   "mimetype": "text/x-python",
   "name": "python",
   "nbconvert_exporter": "python",
   "pygments_lexer": "ipython3",
   "version": "3.10.13"
  }
 },
 "nbformat": 4,
 "nbformat_minor": 2
}
