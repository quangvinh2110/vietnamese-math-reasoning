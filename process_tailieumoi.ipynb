{
 "cells": [
  {
   "cell_type": "code",
   "execution_count": 15,
   "metadata": {},
   "outputs": [],
   "source": [
    "import json"
   ]
  },
  {
   "cell_type": "code",
   "execution_count": 45,
   "metadata": {},
   "outputs": [],
   "source": [
    "f = open(\"./data/tailieumoi/toan5_questions.jsonl\", \"r\")\n",
    "data = {\n",
    "    \"question\": [],\n",
    "    \"choices\": [],\n",
    "    \"answer\": []\n",
    "}\n",
    "for line in f:\n",
    "    line = json.loads(line.strip())\n",
    "    data[\"question\"].append(line[\"question\"])\n",
    "    data[\"choices\"].append(line[\"choices\"])\n",
    "    data[\"answer\"].append(line[\"answer\"])\n",
    "f.close()"
   ]
  },
  {
   "cell_type": "code",
   "execution_count": 137,
   "metadata": {},
   "outputs": [],
   "source": [
    "import re\n",
    "import unicodedata\n",
    "\n",
    "TAG_PATTERN = re.compile(\"<.*?>\")\n",
    "\n",
    "def extract_html_tag(s: str):\n",
    "    return TAG_PATTERN.findall(s)\n",
    "\n",
    "def preprocess_html_tag(tag: str):\n",
    "    if tag[:5] == \"<img \":\n",
    "        return \"<img/>\"\n",
    "    if tag[:8] == \"<strong \":\n",
    "        return \"<strong>\"\n",
    "    if tag[:4] == \"<em \":\n",
    "        return \"<em>\"\n",
    "    if tag[:6] == \"<math \":\n",
    "        return \"<math>\"\n",
    "    if tag[:8] == \"<mtable \":\n",
    "        return \"<mtable>\"\n",
    "    if tag[:5] == \"<sup \":\n",
    "        return \"<sup>\"\n",
    "    if tag[:5] == \"<sub \":\n",
    "        return \"<sub>\"\n",
    "    if tag[:13] == \"<o:OLEObject \":\n",
    "        return \"<o:OLEObject>\"\n",
    "    return tag\n",
    "\n",
    "def normalize(s: str):\n",
    "    return unicodedata.normalize(\"NFC\", s)\n",
    "\n",
    "def remove_redundant_tag(s: str):\n",
    "    s = s.replace(\"<br />\", \"\")\n",
    "    return REDUNDANT_TAGS_PATTERN.sub(\"\", s)\n",
    "\n",
    "# drop tags\n",
    "drop_sample_tags = [\"<img.*?>\", \"</mtable>\", \"<td.*?>\", \"</td>\"]\n",
    "redundant_tags = [\"<!--[endif]-->\", \"<o:OLEObject.*?>\", \"<o:OLEObject\", \"</o:OLEObject>\", \"<strong.*>\", \"</strong>\", \"<!--[endif]-->\", \"<!-- [if !supportLists]-->\", \"<![endif]-->\", \"</xml>\", \"<xml>\", \"<!-- [if gte mso 9]>\", \"<!-- [if supportFields]>\"]\n",
    "DROP_SAMPLE_TAGS_PATTERN = re.compile(\"|\".join(drop_sample_tags))\n",
    "REDUNDANT_TAGS_PATTERN = re.compile(\"|\".join(redundant_tags))\n",
    "def preprocess_data(data: dict): \n",
    "    new_data = {\n",
    "        \"question\": [],\n",
    "        \"choices\": [],\n",
    "        \"answer\": []\n",
    "    }\n",
    "    for i in range(len(data[\"question\"])):\n",
    "        question = normalize(data[\"question\"][i])\n",
    "        choices = normalize(data[\"choices\"][i])\n",
    "        answer = normalize(data[\"answer\"][i])\n",
    "        \n",
    "        if len(DROP_SAMPLE_TAGS_PATTERN.findall(question)) > 0:\n",
    "            continue\n",
    "        if len(DROP_SAMPLE_TAGS_PATTERN.findall(choices)) > 0:\n",
    "            continue\n",
    "        if len(DROP_SAMPLE_TAGS_PATTERN.findall(answer)) > 0:\n",
    "            continue\n",
    "        \n",
    "        question = remove_redundant_tag(question)\n",
    "        choices = remove_redundant_tag(choices)\n",
    "        answer = remove_redundant_tag(answer)\n",
    "\n",
    "        new_data[\"question\"].append(question)\n",
    "        new_data[\"choices\"].append(choices)\n",
    "        new_data[\"answer\"].append(answer)\n",
    "        \n",
    "    return new_data"
   ]
  },
  {
   "cell_type": "code",
   "execution_count": 138,
   "metadata": {},
   "outputs": [],
   "source": [
    "new_data = preprocess_data(data)"
   ]
  },
  {
   "cell_type": "code",
   "execution_count": 139,
   "metadata": {},
   "outputs": [
    {
     "data": {
      "text/plain": [
       "4037"
      ]
     },
     "execution_count": 139,
     "metadata": {},
     "output_type": "execute_result"
    }
   ],
   "source": [
    "len(new_data[\"choices\"])"
   ]
  },
  {
   "cell_type": "code",
   "execution_count": 140,
   "metadata": {},
   "outputs": [],
   "source": [
    "all_str = \"########\".join(new_data[\"question\"]+new_data[\"choices\"]+new_data[\"answer\"])\n",
    "all_tags = extract_html_tag(all_str)"
   ]
  },
  {
   "cell_type": "code",
   "execution_count": 141,
   "metadata": {},
   "outputs": [],
   "source": [
    "all_tags = list(set(all_tags))"
   ]
  },
  {
   "cell_type": "code",
   "execution_count": 142,
   "metadata": {},
   "outputs": [
    {
     "data": {
      "text/plain": [
       "91"
      ]
     },
     "execution_count": 142,
     "metadata": {},
     "output_type": "execute_result"
    }
   ],
   "source": [
    "len(all_tags)"
   ]
  },
  {
   "cell_type": "code",
   "execution_count": 143,
   "metadata": {},
   "outputs": [],
   "source": [
    "all_tags_1 = list(set(map(preprocess_html_tag, all_tags)))"
   ]
  },
  {
   "cell_type": "code",
   "execution_count": 144,
   "metadata": {},
   "outputs": [
    {
     "data": {
      "text/plain": [
       "77"
      ]
     },
     "execution_count": 144,
     "metadata": {},
     "output_type": "execute_result"
    }
   ],
   "source": [
    "len(all_tags_1)"
   ]
  },
  {
   "cell_type": "code",
   "execution_count": 145,
   "metadata": {},
   "outputs": [
    {
     "data": {
      "text/plain": [
       "['<sup>',\n",
       " '</mrow>',\n",
       " '<mfenced>',\n",
       " '<ul>',\n",
       " '</mn>',\n",
       " '<mi>',\n",
       " '<mfrac>',\n",
       " '</sub>',\n",
       " '<m:r>',\n",
       " '<!-- [if !msEquation]-->',\n",
       " '<menclose notation=\"box\">',\n",
       " '</u>',\n",
       " '<u>',\n",
       " '</munder>',\n",
       " '<!-- [if supportFields]>',\n",
       " '<math>',\n",
       " '<br/>',\n",
       " '<m:num>',\n",
       " '</mspace>',\n",
       " '</b>',\n",
       " '</m:rPr>',\n",
       " '</m:ctrlPr>',\n",
       " '</mi>',\n",
       " '</sup>',\n",
       " '</m:num>',\n",
       " '<mtext>',\n",
       " '</mfenced>',\n",
       " '<mn>',\n",
       " '<msub>',\n",
       " '</li>',\n",
       " '</menclose>',\n",
       " '<mspace linebreak=\"newline\">',\n",
       " '<menclose notation=\"updiagonalstrike\">',\n",
       " '<msup>',\n",
       " '<mo>',\n",
       " '</ol>',\n",
       " '<sub>',\n",
       " '<mover>',\n",
       " '</mo>',\n",
       " '</mover>',\n",
       " '<li>',\n",
       " '</em>',\n",
       " '<em>',\n",
       " '</math>',\n",
       " '<!-- [if gte mso 9]>',\n",
       " '</m:den>',\n",
       " '</mtext>',\n",
       " '<b>',\n",
       " '<m:fPr>',\n",
       " '<msubsup>',\n",
       " '</ul>',\n",
       " '<munder>',\n",
       " '<m:sty m:val=\"p\"/>',\n",
       " '<!--[endif]-->',\n",
       " '</mfrac>',\n",
       " '</m:fPr>',\n",
       " '<!-- [if !supportLists]-->',\n",
       " '</msubsup>',\n",
       " '</m:f>',\n",
       " \"<i style='mso-bidi-font-style:normal'>\",\n",
       " '</msub>',\n",
       " '<![endif]-->',\n",
       " '</i>',\n",
       " '<m:den>',\n",
       " '</msup>',\n",
       " '<m:rPr>',\n",
       " '</m:oMath>',\n",
       " '<ol>',\n",
       " '<m:ctrlPr>',\n",
       " '<mrow>',\n",
       " '<m:oMath>',\n",
       " '<!-- [if gte msEquation 12]>',\n",
       " '<mover accent=\"true\">',\n",
       " '</m:r>',\n",
       " '<m:scr      m:val=\"roman\"/>',\n",
       " '<m:f>',\n",
       " '<mi mathvariant=\"normal\">']"
      ]
     },
     "execution_count": 145,
     "metadata": {},
     "output_type": "execute_result"
    }
   ],
   "source": [
    "all_tags_1"
   ]
  },
  {
   "cell_type": "code",
   "execution_count": null,
   "metadata": {},
   "outputs": [],
   "source": []
  }
 ],
 "metadata": {
  "kernelspec": {
   "display_name": "zac2023",
   "language": "python",
   "name": "python3"
  },
  "language_info": {
   "codemirror_mode": {
    "name": "ipython",
    "version": 3
   },
   "file_extension": ".py",
   "mimetype": "text/x-python",
   "name": "python",
   "nbconvert_exporter": "python",
   "pygments_lexer": "ipython3",
   "version": "3.10.13"
  }
 },
 "nbformat": 4,
 "nbformat_minor": 2
}
