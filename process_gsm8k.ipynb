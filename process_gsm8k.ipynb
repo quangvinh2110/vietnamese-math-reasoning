{
 "cells": [
  {
   "cell_type": "code",
   "execution_count": 9,
   "metadata": {},
   "outputs": [],
   "source": [
    "import json \n",
    "import unicodedata\n",
    "\n",
    "def normalize(s: str):\n",
    "    return unicodedata.normalize(\"NFC\", s)\n",
    "\n",
    "f = open(\"./data/GSM8K/train.jsonl\", \"r\")\n",
    "data = []\n",
    "for line in f:\n",
    "    line = json.loads(line)\n",
    "    line[\"question\"] = normalize(line[\"question\"])\n",
    "    answer = normalize(line[\"answer\"]).split(\"####\")[-1]\n",
    "    line[\"answer\"] = float(answer.replace(\",\", \"\").strip())\n",
    "    data.append(line)\n",
    "\n",
    "f.close()\n",
    "\n",
    "f = open(\"./data/GSM8K/test.jsonl\", \"r\")\n",
    "for line in f:\n",
    "    line = json.loads(line)\n",
    "    line[\"question\"] = normalize(line[\"question\"])\n",
    "    answer = normalize(line[\"answer\"]).split(\"####\")[-1]\n",
    "    line[\"answer\"] = float(answer.replace(\",\", \"\").strip())\n",
    "    data.append(line)\n",
    "\n",
    "f.close()"
   ]
  },
  {
   "cell_type": "code",
   "execution_count": 10,
   "metadata": {},
   "outputs": [
    {
     "data": {
      "text/plain": [
       "8792"
      ]
     },
     "execution_count": 10,
     "metadata": {},
     "output_type": "execute_result"
    }
   ],
   "source": [
    "len(data)"
   ]
  },
  {
   "cell_type": "code",
   "execution_count": 11,
   "metadata": {},
   "outputs": [],
   "source": [
    "f = open(\"./data/GSM8K/gsm6k_code.jsonl\", \"r\")\n",
    "code_data = []\n",
    "for line in f:\n",
    "    line = json.loads(line)\n",
    "    line[\"question\"] = normalize(line[\"question\"])\n",
    "    code_data.append(line)\n",
    "\n",
    "f.close()\n",
    "\n",
    "f = open(\"./data/GSM8K/gsm3k_code.jsonl\", \"r\")\n",
    "for line in f:\n",
    "    line = json.loads(line)\n",
    "    line[\"question\"] = normalize(line[\"question\"])\n",
    "    code_data.append(line)\n",
    "\n",
    "f.close()\n",
    "\n",
    "final_data = []\n",
    "for s1 in code_data:\n",
    "    new_sample = {\n",
    "        \"question\": s1[\"question\"],\n",
    "        \"instruction\": s1[\"instruction\"],\n",
    "        \"code\": s1[\"code\"],\n",
    "        \"answer\": None\n",
    "    }\n",
    "    for s2 in data:\n",
    "        if s1[\"question\"] == s2[\"question\"]:\n",
    "            new_sample[\"answer\"] = s2[\"answer\"]\n",
    "            break \n",
    "    final_data.append(new_sample)\n",
    "\n",
    "for i, s in enumerate(final_data):\n",
    "    if s[\"answer\"] is None:\n",
    "        print(i)\n"
   ]
  },
  {
   "cell_type": "code",
   "execution_count": 15,
   "metadata": {},
   "outputs": [
    {
     "data": {
      "text/plain": [
       "8929"
      ]
     },
     "execution_count": 15,
     "metadata": {},
     "output_type": "execute_result"
    }
   ],
   "source": [
    "len(final_data)"
   ]
  },
  {
   "cell_type": "code",
   "execution_count": 17,
   "metadata": {},
   "outputs": [
    {
     "name": "stdout",
     "output_type": "stream",
     "text": [
      "\n",
      "# Define the number of clips sold in April\n",
      "clips_april = 48\n",
      "\n",
      "# Divide the number of clips sold in April by 2 to calculate the number of clips sold in May\n",
      "clips_may = clips_april / 2\n",
      "\n",
      "# Add the number of clips sold in April and the number of clips sold in May to calculate the total number of clips sold in April and May\n",
      "clips_total = clips_april + clips_may\n",
      "\n",
      "# Print the total number of clips sold in April and May\n",
      "print(clips_total)\n",
      "\n"
     ]
    }
   ],
   "source": [
    "print((final_data[0][\"code\"])[9:-3])"
   ]
  },
  {
   "cell_type": "code",
   "execution_count": 18,
   "metadata": {},
   "outputs": [],
   "source": [
    "from src.utils.python_executor import PythonExecutor\n",
    "import re\n",
    "\n",
    "CODE_PATTERN = re.compile(r\"```python([\\s\\S]*)```\")\n",
    "\n",
    "def extract_code(s: str):\n",
    "    return CODE_PATTERN.findall(s)[0]\n",
    "\n",
    "executor = PythonExecutor(get_answer_from_stdout=True)"
   ]
  },
  {
   "cell_type": "code",
   "execution_count": 19,
   "metadata": {},
   "outputs": [
    {
     "name": "stderr",
     "output_type": "stream",
     "text": [
      "100%|██████████| 8929/8929 [16:46<00:00,  8.87it/s]\n"
     ]
    }
   ],
   "source": [
    "from tqdm import  tqdm\n",
    "final_data_1 = []\n",
    "for s in tqdm(final_data):\n",
    "    try:\n",
    "        code = extract_code(s[\"code\"])\n",
    "        predictions = float(executor.apply(code)[0])\n",
    "    except:\n",
    "        continue\n",
    "    if abs(predictions - s[\"answer\"]) < 1e-5:\n",
    "        final_data_1.append(s)"
   ]
  },
  {
   "cell_type": "code",
   "execution_count": 20,
   "metadata": {},
   "outputs": [
    {
     "data": {
      "text/plain": [
       "6648"
      ]
     },
     "execution_count": 20,
     "metadata": {},
     "output_type": "execute_result"
    }
   ],
   "source": [
    "len(final_data_1)"
   ]
  },
  {
   "cell_type": "code",
   "execution_count": 72,
   "metadata": {},
   "outputs": [],
   "source": [
    "with open(\"./data/GSM8K/gsm8k_code.jsonl\", \"a\") as f:\n",
    "    for s in final_data_1:\n",
    "        d = json.dumps(s, ensure_ascii=False)+\"\\n\"\n",
    "        f.write(d)"
   ]
  },
  {
   "cell_type": "code",
   "execution_count": 73,
   "metadata": {},
   "outputs": [
    {
     "data": {
      "text/plain": [
       "{'question': 'Natalia sold clips to 48 of her friends in April, and then she sold half as many clips in May. How many clips did Natalia sell altogether in April and May?',\n",
       " 'instruction': 'STEP\\nStep 1: The number of clips sold in April is 48.\\nStep 2: Divide the number of clips sold in April by 2 to calculate the number of clips sold in May.\\nStep 3: Add the number of clips sold in April and the number of clips sold in May to calculate the total number of clips sold in April and May.',\n",
       " 'code': '```python\\n# Define the number of clips sold in April\\nclips_april = 48\\n\\n# Divide the number of clips sold in April by 2 to calculate the number of clips sold in May\\nclips_may = clips_april / 2\\n\\n# Add the number of clips sold in April and the number of clips sold in May to calculate the total number of clips sold in April and May\\nclips_total = clips_april + clips_may\\n\\n# Print the total number of clips sold in April and May\\nprint(clips_total)\\n```',\n",
       " 'answer': 72.0}"
      ]
     },
     "execution_count": 73,
     "metadata": {},
     "output_type": "execute_result"
    }
   ],
   "source": [
    "final_data_1[0]"
   ]
  },
  {
   "cell_type": "code",
   "execution_count": 76,
   "metadata": {},
   "outputs": [
    {
     "data": {
      "text/plain": [
       "{'question': 'Weng earns $12 an hour for babysitting. Yesterday, she just did 50 minutes of babysitting. How much did she earn?',\n",
       " 'instruction': 'STEP\\nStep 1: The amount Weng earns per hour babysitting is $12.\\nStep 2: Calculate how much Weng earns per minute babysitting by dividing the amount Weng earns per hour by 60. In this case, $12 divided by 60 equals $0.20 per minute.\\nStep 3: Multiply the result in step 2 by 50 to find the amount of money Weng earns after 50 minutes of babysitting. In this case, $0.20 multiplied by 50 equals $10.',\n",
       " 'code': '```python\\n# Define the amount Weng earns per hour babysitting\\nhourly_rate = 12\\n\\n# Calculate how much Weng earns per minute babysitting by dividing the hourly rate by 60\\nminute_rate = hourly_rate / 60\\n\\n# Multiply the minute rate by 50 to find the amount of money Weng earns after 50 minutes of babysitting\\nearnings = minute_rate * 50\\n\\n# Print the earnings\\nprint(earnings)\\n```',\n",
       " 'answer': 10.0}"
      ]
     },
     "execution_count": 76,
     "metadata": {},
     "output_type": "execute_result"
    }
   ],
   "source": [
    "sample"
   ]
  },
  {
   "cell_type": "code",
   "execution_count": 21,
   "metadata": {},
   "outputs": [
    {
     "name": "stderr",
     "output_type": "stream",
     "text": [
      "100%|██████████| 6648/6648 [00:00<00:00, 22682.20it/s]\n"
     ]
    }
   ],
   "source": [
    "from tqdm import  tqdm\n",
    "with open(\"./data/gsm8k_zalo/gsm8k_v1.jsonl\", \"a\") as f:\n",
    "    for sample in tqdm(final_data_1):\n",
    "        code = f\"```python\\n{extract_code(sample['code'])}\\n```\"\n",
    "        s = {\n",
    "            \"messages\": [\n",
    "                {\n",
    "                    \"role\": \"user\",\n",
    "                    \"content\": f\"Solve the following problem: {sample['question']}\"\n",
    "                },\n",
    "                {\n",
    "                    \"role\": \"assistant\",\n",
    "                    \"content\": (\n",
    "                        \"Let's break it down step by step first:\\n\"\n",
    "                        f\"{sample['instruction']}\\n\"\n",
    "                        \"Here's the Python code based on the plan above:\\n\"\n",
    "                        f\"{code}\"    \n",
    "                    )\n",
    "                }\n",
    "            ]\n",
    "        }\n",
    "        d = json.dumps(s, ensure_ascii=False)+\"\\n\"\n",
    "        f.write(d)\n"
   ]
  },
  {
   "cell_type": "code",
   "execution_count": null,
   "metadata": {},
   "outputs": [],
   "source": []
  },
  {
   "cell_type": "code",
   "execution_count": null,
   "metadata": {},
   "outputs": [],
   "source": []
  },
  {
   "cell_type": "code",
   "execution_count": null,
   "metadata": {},
   "outputs": [],
   "source": []
  },
  {
   "cell_type": "code",
   "execution_count": 1,
   "metadata": {},
   "outputs": [],
   "source": [
    "import pandas as pd\n",
    "import json\n",
    "import unicodedata\n",
    "\n",
    "def normalize(s: str):\n",
    "    return unicodedata.normalize(\"NFC\", s)\n",
    "\n",
    "    \n",
    "f  = open(\"./data/zalo/train/math_code_v2.jsonl\")\n",
    "code_data = []\n",
    "for line in f:\n",
    "    line = json.loads(line.strip())\n",
    "    code_data.append(line)\n",
    "f.close()\n",
    "\n",
    "with open(\"./data/zalo/train/math_train.json\", \"r\") as f:\n",
    "    original_data = json.loads(f.read())\n",
    "\n",
    "for sample in code_data:\n",
    "    sample[\"answer\"] = None\n",
    "    for sample_1 in original_data[\"data\"]:\n",
    "        question = normalize(sample[\"question\"].strip())\n",
    "        question_1 = normalize(sample_1[\"question\"].strip())\n",
    "        if question_1[:-1] in question:\n",
    "            sample[\"answer\"] = normalize(sample_1[\"answer\"])"
   ]
  },
  {
   "cell_type": "code",
   "execution_count": 2,
   "metadata": {},
   "outputs": [
    {
     "data": {
      "text/plain": [
       "1208"
      ]
     },
     "execution_count": 2,
     "metadata": {},
     "output_type": "execute_result"
    }
   ],
   "source": [
    "len(code_data)"
   ]
  },
  {
   "cell_type": "code",
   "execution_count": 3,
   "metadata": {},
   "outputs": [],
   "source": [
    "from tqdm import  tqdm\n",
    "import re\n",
    "from src.utils.python_executor import PythonExecutor\n",
    "\n",
    "\n",
    "CODE_PATTERN = re.compile(r\"```python([\\s\\S]*)```\")\n",
    "\n",
    "def extract_code(s: str):\n",
    "    return CODE_PATTERN.findall(s)[0]\n",
    "\n",
    "executor = PythonExecutor(get_answer_from_stdout=True)\n",
    "\n",
    "def is_float(string: str):\n",
    "    try:\n",
    "        float(string)\n",
    "        return True\n",
    "    except ValueError:\n",
    "        return False\n",
    "\n",
    "\n",
    "COMPARISON_PATTERN = re.compile(\"if ([\\w]+==.*|[\\w]+ ==.*):\")\n",
    "\n",
    "\n",
    "def fix_rounding_error(code: str):\n",
    "    comparisons = COMPARISON_PATTERN.findall(code)\n",
    "    if len(comparisons) == 0:\n",
    "        return code\n",
    "    answer_variable = comparisons[0].split(\"==\")[0]\n",
    "    answer_value = executor.apply(\n",
    "        code + f\"\\nprint({answer_variable})\"\n",
    "    )[0]\n",
    "    if is_float(answer_value):\n",
    "        for comparison in comparisons:\n",
    "            choice_variable = comparison.split(\"==\")[-1]\n",
    "            str_to_replace = f\"abs({answer_variable}-{choice_variable}) < 1e-8\"\n",
    "            code = code.replace(comparison, str_to_replace)\n",
    "    \n",
    "    return code\n",
    "\n",
    "def execute_python_code(code: str):\n",
    "    output = executor.apply(code)\n",
    "    if output[1] == 'Done':\n",
    "        if output[0] == '':\n",
    "            return code, \"Missing print function!!!!\"\n",
    "        if output[0].strip() not in [\"A\", \"B\", \"C\", \"D\", \"E\"]:\n",
    "            code = fix_rounding_error(code)\n",
    "            output = executor.apply(code)        \n",
    "\n",
    "    return code, output[0]"
   ]
  },
  {
   "cell_type": "code",
   "execution_count": 4,
   "metadata": {},
   "outputs": [
    {
     "name": "stderr",
     "output_type": "stream",
     "text": [
      "100%|██████████| 1208/1208 [03:08<00:00,  6.40it/s]\n"
     ]
    }
   ],
   "source": [
    "code_data_1 = []\n",
    "drop_ids = []\n",
    "for i, s in enumerate(tqdm(code_data)):\n",
    "    try:\n",
    "        code = extract_code(s[\"code\"])\n",
    "    except:\n",
    "        drop_ids.append(i)\n",
    "        continue\n",
    "    tmp = execute_python_code(code)\n",
    "    _, output = tmp\n",
    "    if output.strip().lower() == s[\"answer\"][0].lower():\n",
    "        code_data_1.append(s)\n",
    "    else:\n",
    "        drop_ids.append(i)"
   ]
  },
  {
   "cell_type": "code",
   "execution_count": 5,
   "metadata": {},
   "outputs": [
    {
     "data": {
      "text/plain": [
       "785"
      ]
     },
     "execution_count": 5,
     "metadata": {},
     "output_type": "execute_result"
    }
   ],
   "source": [
    "len(code_data_1)"
   ]
  },
  {
   "cell_type": "code",
   "execution_count": 6,
   "metadata": {},
   "outputs": [
    {
     "data": {
      "text/plain": [
       "{'question': 'Một người bán hàng bỏ ra 80,000 đồng tiền vốn và bị lỗ 6%. Để tính số tiền lỗ ta phải tính?\\nA. 80,000 : 6\\nB. 80,000 x 6\\nC. 80,000 : (6 x 100)\\nD. (80,000 x 6) : 100\\n',\n",
       " 'instruction': 'STEP\\nStep 1: The capital invested is 80,000 VND, and the loss percentage is 6%.\\nStep 2: To calculate the loss amount, multiply the initial capital amount (80,000) by the loss percentage (6%).\\nStep 3: Compare the calculated results with each answer to choose the correct answer.',\n",
       " 'code': 'I can try to write a Python code based on the instructions you gave me. Here is what I came up with:\\n\\n```python\\ninitial_capital = 80000\\nloss_percentage = 6 / 100\\n\\nloss = initial_capital * loss_percentage\\n\\nanswers = {\\n    \"A\": 80000 / 6,\\n    \"B\": 80000 * 6,\\n    \"C\": 80000 / (6 * 100),\\n    \"D\": (80000 * 6) / 100\\n}\\nif loss == answers[\"A\"]:\\n    answer = \"A\"\\nelif loss == answers[\"B\"]:\\n    answer = \"B\"\\nelif loss == answers[\"C\"]:\\n    answer = \"C\"\\nelif loss == answers[\"D\"]:\\n    answer = \"D\"\\nelse:\\n    answer = \"No answer\"\\n\\nprint(answer)\\n```\\n\\nThe correct answer is **D**.',\n",
       " 'answer': 'D. (80,000 x 6) : 100'}"
      ]
     },
     "execution_count": 6,
     "metadata": {},
     "output_type": "execute_result"
    }
   ],
   "source": [
    "code_data_1[0]"
   ]
  },
  {
   "cell_type": "code",
   "execution_count": 8,
   "metadata": {},
   "outputs": [
    {
     "name": "stderr",
     "output_type": "stream",
     "text": [
      "100%|██████████| 785/785 [00:00<00:00, 16837.79it/s]\n"
     ]
    }
   ],
   "source": [
    "from tqdm import  tqdm\n",
    "import json\n",
    "\n",
    "from src.utils.utils import add_notes\n",
    "\n",
    "with open(\"./data/gsm8k_zalo/zalo_v1.jsonl\", \"a\") as f:\n",
    "    for sample in tqdm(code_data_1):\n",
    "        code = f\"```python\\n{extract_code(sample['code'])}\\n```\"\n",
    "        question = add_notes(sample['question'])\n",
    "        s = {\n",
    "            \"messages\": [\n",
    "                {\n",
    "                    \"role\": \"user\",\n",
    "                    \"content\": f\"Solve the following multiple-choices problem: {question}\"\n",
    "                },\n",
    "                {\n",
    "                    \"role\": \"assistant\",\n",
    "                    \"content\": (\n",
    "                        \"Let's break it down step by step first:\\n\"\n",
    "                        f\"{sample['instruction']}\\n\"\n",
    "                        \"Here's the Python code based on the plan above:\\n\"\n",
    "                        f\"{code}\"    \n",
    "                    )\n",
    "                }\n",
    "            ]\n",
    "        }\n",
    "        d = json.dumps(s, ensure_ascii=False)+\"\\n\"\n",
    "        f.write(d)"
   ]
  },
  {
   "cell_type": "code",
   "execution_count": null,
   "metadata": {},
   "outputs": [],
   "source": []
  },
  {
   "cell_type": "code",
   "execution_count": null,
   "metadata": {},
   "outputs": [],
   "source": []
  },
  {
   "cell_type": "code",
   "execution_count": null,
   "metadata": {},
   "outputs": [],
   "source": []
  },
  {
   "cell_type": "code",
   "execution_count": 75,
   "metadata": {},
   "outputs": [
    {
     "name": "stdout",
     "output_type": "stream",
     "text": [
      "STEP\n",
      "Step 1: Convert 10% to decimal form by dividing it by 100.\n",
      "Step 2: Multiply the decimal form of 10% by 5 dm to find the answer.\n",
      "Step 3: Compare the calculated result with each answer to choose the correct option.\n"
     ]
    }
   ],
   "source": [
    "print(code_data[5][\"instruction\"])"
   ]
  },
  {
   "cell_type": "code",
   "execution_count": 71,
   "metadata": {},
   "outputs": [
    {
     "data": {
      "text/plain": [
       "[5,\n",
       " 7,\n",
       " 18,\n",
       " 20,\n",
       " 24,\n",
       " 31,\n",
       " 36,\n",
       " 39,\n",
       " 40,\n",
       " 43,\n",
       " 45,\n",
       " 51,\n",
       " 53,\n",
       " 57,\n",
       " 66,\n",
       " 69,\n",
       " 73,\n",
       " 85,\n",
       " 86,\n",
       " 89,\n",
       " 90,\n",
       " 91,\n",
       " 93,\n",
       " 95,\n",
       " 97,\n",
       " 99,\n",
       " 101,\n",
       " 104,\n",
       " 110,\n",
       " 119,\n",
       " 131,\n",
       " 134,\n",
       " 137,\n",
       " 149,\n",
       " 150,\n",
       " 154,\n",
       " 158,\n",
       " 165,\n",
       " 166,\n",
       " 171,\n",
       " 174,\n",
       " 181,\n",
       " 182,\n",
       " 190,\n",
       " 197,\n",
       " 199,\n",
       " 202,\n",
       " 203,\n",
       " 204,\n",
       " 205,\n",
       " 206,\n",
       " 207,\n",
       " 216,\n",
       " 229,\n",
       " 233,\n",
       " 234,\n",
       " 242,\n",
       " 248,\n",
       " 249,\n",
       " 255,\n",
       " 256,\n",
       " 257,\n",
       " 260,\n",
       " 263,\n",
       " 264,\n",
       " 267,\n",
       " 268,\n",
       " 269,\n",
       " 271,\n",
       " 275,\n",
       " 277,\n",
       " 279,\n",
       " 280,\n",
       " 281,\n",
       " 285,\n",
       " 289,\n",
       " 290,\n",
       " 291,\n",
       " 293,\n",
       " 296,\n",
       " 297,\n",
       " 299,\n",
       " 302,\n",
       " 307,\n",
       " 310,\n",
       " 311,\n",
       " 316,\n",
       " 317,\n",
       " 318,\n",
       " 321,\n",
       " 322,\n",
       " 324,\n",
       " 325,\n",
       " 326,\n",
       " 327,\n",
       " 329,\n",
       " 330,\n",
       " 332,\n",
       " 334,\n",
       " 335,\n",
       " 336,\n",
       " 337,\n",
       " 342,\n",
       " 346,\n",
       " 348,\n",
       " 350,\n",
       " 353,\n",
       " 354,\n",
       " 355,\n",
       " 360,\n",
       " 361,\n",
       " 363,\n",
       " 364,\n",
       " 374,\n",
       " 383,\n",
       " 384,\n",
       " 387,\n",
       " 389,\n",
       " 395,\n",
       " 396,\n",
       " 399,\n",
       " 407,\n",
       " 413,\n",
       " 414,\n",
       " 415,\n",
       " 416,\n",
       " 421,\n",
       " 429,\n",
       " 431,\n",
       " 436,\n",
       " 437,\n",
       " 438,\n",
       " 440,\n",
       " 442,\n",
       " 447,\n",
       " 452,\n",
       " 453,\n",
       " 459,\n",
       " 460,\n",
       " 465,\n",
       " 469,\n",
       " 471,\n",
       " 476,\n",
       " 477,\n",
       " 478,\n",
       " 480,\n",
       " 482,\n",
       " 483,\n",
       " 484,\n",
       " 485,\n",
       " 486,\n",
       " 491,\n",
       " 492,\n",
       " 494,\n",
       " 497,\n",
       " 498,\n",
       " 499,\n",
       " 500,\n",
       " 503,\n",
       " 504,\n",
       " 505,\n",
       " 507,\n",
       " 509,\n",
       " 510,\n",
       " 511,\n",
       " 514,\n",
       " 515,\n",
       " 517,\n",
       " 518,\n",
       " 519,\n",
       " 520,\n",
       " 521,\n",
       " 523,\n",
       " 524,\n",
       " 525,\n",
       " 526,\n",
       " 527,\n",
       " 528,\n",
       " 529,\n",
       " 530,\n",
       " 531,\n",
       " 534,\n",
       " 535,\n",
       " 536,\n",
       " 537,\n",
       " 538,\n",
       " 539,\n",
       " 540,\n",
       " 541,\n",
       " 542,\n",
       " 543,\n",
       " 544,\n",
       " 547,\n",
       " 549,\n",
       " 552,\n",
       " 554,\n",
       " 555,\n",
       " 556,\n",
       " 557,\n",
       " 559,\n",
       " 560,\n",
       " 563,\n",
       " 565,\n",
       " 572,\n",
       " 574,\n",
       " 576,\n",
       " 577,\n",
       " 578,\n",
       " 579,\n",
       " 580,\n",
       " 583,\n",
       " 584,\n",
       " 589,\n",
       " 591,\n",
       " 593,\n",
       " 596,\n",
       " 598,\n",
       " 599,\n",
       " 607,\n",
       " 610,\n",
       " 611,\n",
       " 615,\n",
       " 619,\n",
       " 624,\n",
       " 625,\n",
       " 629,\n",
       " 633,\n",
       " 640,\n",
       " 643,\n",
       " 647,\n",
       " 648,\n",
       " 652,\n",
       " 654,\n",
       " 655,\n",
       " 659,\n",
       " 661,\n",
       " 662,\n",
       " 664,\n",
       " 673,\n",
       " 683,\n",
       " 685,\n",
       " 692,\n",
       " 700,\n",
       " 710,\n",
       " 715,\n",
       " 721,\n",
       " 723,\n",
       " 724,\n",
       " 727,\n",
       " 730,\n",
       " 732,\n",
       " 734,\n",
       " 737,\n",
       " 738,\n",
       " 739,\n",
       " 743,\n",
       " 744,\n",
       " 745,\n",
       " 752,\n",
       " 754,\n",
       " 755,\n",
       " 756,\n",
       " 758,\n",
       " 760,\n",
       " 763,\n",
       " 766,\n",
       " 770,\n",
       " 772,\n",
       " 775,\n",
       " 778,\n",
       " 780,\n",
       " 782,\n",
       " 783,\n",
       " 785,\n",
       " 791,\n",
       " 795,\n",
       " 798,\n",
       " 802,\n",
       " 803,\n",
       " 804,\n",
       " 807,\n",
       " 809,\n",
       " 811,\n",
       " 815,\n",
       " 816,\n",
       " 818,\n",
       " 825,\n",
       " 826,\n",
       " 827,\n",
       " 832,\n",
       " 834,\n",
       " 835,\n",
       " 836,\n",
       " 839,\n",
       " 840,\n",
       " 841,\n",
       " 842,\n",
       " 843,\n",
       " 847,\n",
       " 848,\n",
       " 849,\n",
       " 850,\n",
       " 853,\n",
       " 854,\n",
       " 867,\n",
       " 874,\n",
       " 878,\n",
       " 879,\n",
       " 881,\n",
       " 886,\n",
       " 887,\n",
       " 891,\n",
       " 909,\n",
       " 924,\n",
       " 925,\n",
       " 927,\n",
       " 932,\n",
       " 943,\n",
       " 948,\n",
       " 951,\n",
       " 957,\n",
       " 962,\n",
       " 964,\n",
       " 965,\n",
       " 967,\n",
       " 969,\n",
       " 970,\n",
       " 972,\n",
       " 973,\n",
       " 974,\n",
       " 977,\n",
       " 979,\n",
       " 982,\n",
       " 983,\n",
       " 984,\n",
       " 987,\n",
       " 991,\n",
       " 992,\n",
       " 993,\n",
       " 995,\n",
       " 998,\n",
       " 999,\n",
       " 1000,\n",
       " 1001,\n",
       " 1004,\n",
       " 1007,\n",
       " 1009,\n",
       " 1011,\n",
       " 1015,\n",
       " 1019,\n",
       " 1026,\n",
       " 1029,\n",
       " 1030,\n",
       " 1032,\n",
       " 1033,\n",
       " 1034,\n",
       " 1035,\n",
       " 1037,\n",
       " 1038,\n",
       " 1043,\n",
       " 1044,\n",
       " 1046,\n",
       " 1047,\n",
       " 1049,\n",
       " 1051,\n",
       " 1054,\n",
       " 1060,\n",
       " 1063,\n",
       " 1064,\n",
       " 1067,\n",
       " 1068,\n",
       " 1069,\n",
       " 1073,\n",
       " 1080,\n",
       " 1081,\n",
       " 1082,\n",
       " 1088,\n",
       " 1090,\n",
       " 1091,\n",
       " 1094,\n",
       " 1097,\n",
       " 1102,\n",
       " 1103,\n",
       " 1106,\n",
       " 1122,\n",
       " 1123,\n",
       " 1124,\n",
       " 1127,\n",
       " 1128,\n",
       " 1130,\n",
       " 1131,\n",
       " 1135,\n",
       " 1137,\n",
       " 1141,\n",
       " 1142,\n",
       " 1143,\n",
       " 1147,\n",
       " 1150,\n",
       " 1151,\n",
       " 1154,\n",
       " 1156,\n",
       " 1157,\n",
       " 1160,\n",
       " 1161,\n",
       " 1162,\n",
       " 1164,\n",
       " 1166,\n",
       " 1168,\n",
       " 1172,\n",
       " 1173,\n",
       " 1174,\n",
       " 1175,\n",
       " 1176,\n",
       " 1178,\n",
       " 1181,\n",
       " 1182,\n",
       " 1184,\n",
       " 1188,\n",
       " 1197,\n",
       " 1198,\n",
       " 1201,\n",
       " 1204,\n",
       " 1205]"
      ]
     },
     "execution_count": 71,
     "metadata": {},
     "output_type": "execute_result"
    }
   ],
   "source": [
    "drop_ids"
   ]
  },
  {
   "cell_type": "code",
   "execution_count": 27,
   "metadata": {},
   "outputs": [],
   "source": [
    "add_id = [5, 7, 36, 43, 53, 66, 69, 73, 85, 86, 89, 90, 93, 97, 99, 101, 104, 110, 119]\n",
    "correct_id = [91]"
   ]
  },
  {
   "cell_type": "code",
   "execution_count": 78,
   "metadata": {},
   "outputs": [
    {
     "name": "stdout",
     "output_type": "stream",
     "text": [
      "Một ô tô đi từ Hà Nội lúc 11 giờ trưa và đến Vinh lúc 5 giờ 30 phút chiều. Dọc đường ô tô dừng ở Ninh Bình và Thanh Hóa mỗi nơi 15 phút. Hỏi không kể thời gian dừng dọc đường, ô tô đi hết quãng đường từ Hà Nội đến Vinh mất bao nhiêu thời gian ?\n",
      "A. 4 giờ 30 phút\n",
      "B. 6 giờ 30 phút\n",
      "C. 6 giờ 15 phút\n",
      "D. 6 giờ\n",
      "\n",
      "STEP\n",
      "Step 1: Calculate the total time spent on the road by subtracting the time of departure from the time of arrival. \n",
      "Step 2: Subtract the time spent at each stop (Ninh Binh and Thanh Hoa) from the total time calculated in step 1. \n",
      "Step 3: Compare the results with the answers to find the correct option.\n",
      "D. 6 giờ\n"
     ]
    }
   ],
   "source": [
    "ind = 1205\n",
    "print(code_data[ind][\"question\"])\n",
    "print(code_data[ind][\"instruction\"])\n",
    "print(code_data[ind][\"answer\"])"
   ]
  },
  {
   "cell_type": "code",
   "execution_count": 79,
   "metadata": {},
   "outputs": [
    {
     "name": "stdout",
     "output_type": "stream",
     "text": [
      "CODE\n",
      "```python\n",
      "departure_time = 11  # in hours\n",
      "arrival_time = 5 + 30/60  # in hours\n",
      "\n",
      "total_time_on_road = arrival_time - departure_time\n",
      "\n",
      "# Time spent at each stop in hours\n",
      "stop_time = 15 / 60\n",
      "\n",
      "# Subtract stop time from the total time on the road\n",
      "total_time_without_stops = total_time_on_road - (2 * stop_time)\n",
      "\n",
      "answers = {\n",
      "    \"A\": 4 + 30/60,\n",
      "    \"B\": 6 + 30/60,\n",
      "    \"C\": 6 + 15/60,\n",
      "    \"D\": 6\n",
      "}\n",
      "if total_time_without_stops == answers[\"A\"]:\n",
      "    answer = \"A\"\n",
      "elif total_time_without_stops == answers[\"B\"]:\n",
      "    answer = \"B\"\n",
      "elif total_time_without_stops == answers[\"C\"]:\n",
      "    answer = \"C\"\n",
      "elif total_time_without_stops == answers[\"D\"]:\n",
      "    answer = \"D\"\n",
      "else:\n",
      "    answer = \"No answer\"\n",
      "\n",
      "print(answer)\n",
      "```\n",
      "\n",
      "This code calculates the total time spent on the road without considering the time spent at stops in Ninh Binh and Thanh Hoa. It then compares this result with the provided answer choices to determine the correct option.\n"
     ]
    }
   ],
   "source": [
    "print(code_data[ind][\"code\"])"
   ]
  },
  {
   "cell_type": "code",
   "execution_count": 74,
   "metadata": {},
   "outputs": [
    {
     "name": "stdout",
     "output_type": "stream",
     "text": [
      "C\n"
     ]
    }
   ],
   "source": [
    "x = (27 * 8) / 3\n",
    "\n",
    "answers = {\n",
    "    \"A\": 56,\n",
    "    \"B\": 64,\n",
    "    \"C\": 72,\n",
    "    \"D\": 80\n",
    "}\n",
    "if x == answers[\"A\"]:\n",
    "    answer = \"A\"\n",
    "elif x == answers[\"B\"]:\n",
    "    answer = \"B\"\n",
    "elif x == answers[\"C\"]:\n",
    "    answer = \"C\"\n",
    "elif x == answers[\"D\"]:\n",
    "    answer = \"D\"\n",
    "else:\n",
    "    answer = \"No answer\"\n",
    "\n",
    "print(answer)"
   ]
  },
  {
   "cell_type": "code",
   "execution_count": 69,
   "metadata": {},
   "outputs": [
    {
     "data": {
      "text/plain": [
       "9"
      ]
     },
     "execution_count": 69,
     "metadata": {},
     "output_type": "execute_result"
    }
   ],
   "source": [
    "remainder"
   ]
  },
  {
   "cell_type": "code",
   "execution_count": 57,
   "metadata": {},
   "outputs": [
    {
     "data": {
      "text/plain": [
       "2.014"
      ]
     },
     "execution_count": 57,
     "metadata": {},
     "output_type": "execute_result"
    }
   ],
   "source": [
    "volume_m3"
   ]
  },
  {
   "cell_type": "code",
   "execution_count": 60,
   "metadata": {},
   "outputs": [],
   "source": [
    "code = \"\"\"\n",
    "percentage = 0.1\n",
    "area = 11.5\n",
    "\n",
    "result = percentage * area\n",
    "\n",
    "answers = {\n",
    "    \"A\": 10.15,\n",
    "    \"B\": 1.5,\n",
    "    \"C\": 15.5,\n",
    "    \"D\": 1.15\n",
    "}\n",
    "if result == answers[\"A\"]:\n",
    "    answer = \"A\"\n",
    "elif result == answers[\"B\"]:\n",
    "    answer = \"B\"\n",
    "elif result == answers[\"C\"]:\n",
    "    answer = \"C\"\n",
    "elif result == answers[\"D\"]:\n",
    "    answer = \"D\"\n",
    "else:\n",
    "    answer = \"No answer\"\n",
    "\n",
    "print(answer)\n",
    "\"\"\"\n",
    "def fix_rounding_error(code: str):\n",
    "    comparisons = COMPARISON_PATTERN.findall(code)\n",
    "    if len(comparisons) == 0:\n",
    "        return code\n",
    "    answer_variable = comparisons[0].split(\"==\")[0]\n",
    "    answer_value = executor.apply(\n",
    "        code + f\"\\nprint({answer_variable})\"\n",
    "    )[0]\n",
    "    if is_float(answer_value):\n",
    "        for comparison in comparisons:\n",
    "            choice_variable = comparison.split(\"==\")[-1]\n",
    "            str_to_replace = f\"abs({answer_variable}-{choice_variable}) < 1e-8\"\n",
    "            code = code.replace(comparison, str_to_replace)\n",
    "    \n",
    "    return code\n",
    "\n",
    "def execute_python_code(code: str):\n",
    "    output = executor.apply(code)\n",
    "    if output[1] == 'Done':\n",
    "        if output[0].strip() not in [\"A\", \"B\", \"C\", \"D\", \"E\"]:\n",
    "            code = fix_rounding_error(code)\n",
    "            output = executor.apply(code)\n",
    "    else:\n",
    "        if output[0] == '':\n",
    "            return \"Missing print function!!!!\"\n",
    "\n",
    "    return output[0], code"
   ]
  },
  {
   "cell_type": "code",
   "execution_count": 62,
   "metadata": {},
   "outputs": [
    {
     "name": "stdout",
     "output_type": "stream",
     "text": [
      "Hellllllllll\n",
      "\n",
      "percentage = 0.1\n",
      "area = 11.5\n",
      "\n",
      "result = percentage * area\n",
      "\n",
      "answers = {\n",
      "    \"A\": 10.15,\n",
      "    \"B\": 1.5,\n",
      "    \"C\": 15.5,\n",
      "    \"D\": 1.15\n",
      "}\n",
      "if abs(result - answers[\"A\"]) < 1e-8:\n",
      "    answer = \"A\"\n",
      "elif abs(result - answers[\"B\"]) < 1e-8:\n",
      "    answer = \"B\"\n",
      "elif abs(result - answers[\"C\"]) < 1e-8:\n",
      "    answer = \"C\"\n",
      "elif abs(result - answers[\"D\"]) < 1e-8:\n",
      "    answer = \"D\"\n",
      "else:\n",
      "    answer = \"No answer\"\n",
      "\n",
      "print(answer)\n",
      "\n"
     ]
    }
   ],
   "source": [
    "print(execute_python_code(code)[1])"
   ]
  },
  {
   "cell_type": "code",
   "execution_count": 54,
   "metadata": {},
   "outputs": [
    {
     "ename": "NameError",
     "evalue": "name 'answer_variable' is not defined",
     "output_type": "error",
     "traceback": [
      "\u001b[0;31m---------------------------------------------------------------------------\u001b[0m",
      "\u001b[0;31mNameError\u001b[0m                                 Traceback (most recent call last)",
      "\u001b[1;32m/home/vinhnq29/Public/zalo_challenge_2023/process_gsm8k.ipynb Cell 33\u001b[0m line \u001b[0;36m1\n\u001b[0;32m----> <a href='vscode-notebook-cell:/home/vinhnq29/Public/zalo_challenge_2023/process_gsm8k.ipynb#Y144sZmlsZQ%3D%3D?line=0'>1</a>\u001b[0m answer_variable\n",
      "\u001b[0;31mNameError\u001b[0m: name 'answer_variable' is not defined"
     ]
    }
   ],
   "source": [
    "answer_variable"
   ]
  },
  {
   "cell_type": "code",
   "execution_count": 57,
   "metadata": {},
   "outputs": [
    {
     "data": {
      "text/plain": [
       "'1.1500000000000001\\n'"
      ]
     },
     "execution_count": 57,
     "metadata": {},
     "output_type": "execute_result"
    }
   ],
   "source": [
    "executor.apply(\n",
    "    code + f\"\\nprint(result )\"\n",
    ")[0]"
   ]
  },
  {
   "cell_type": "code",
   "execution_count": null,
   "metadata": {},
   "outputs": [],
   "source": []
  },
  {
   "cell_type": "code",
   "execution_count": 45,
   "metadata": {},
   "outputs": [
    {
     "name": "stdout",
     "output_type": "stream",
     "text": [
      "No answer\n",
      "1.1500000000000001\n"
     ]
    }
   ],
   "source": [
    "percentage = 0.1\n",
    "area = 11.5\n",
    "\n",
    "result = percentage * area\n",
    "\n",
    "answers = {\n",
    "    \"A\": 10.15,\n",
    "    \"B\": 1.5,\n",
    "    \"C\": 15.5,\n",
    "    \"D\": 1.15\n",
    "}\n",
    "if result == answers[\"A\"]:\n",
    "    answer = \"A\"\n",
    "elif result == answers[\"B\"]:\n",
    "    answer = \"B\"\n",
    "elif result == answers[\"C\"]:\n",
    "    answer = \"C\"\n",
    "elif result == answers[\"D\"]:\n",
    "    answer = \"D\"\n",
    "else:\n",
    "    answer = \"No answer\"\n",
    "\n",
    "print(answer)\n",
    "\n",
    "print(result )"
   ]
  },
  {
   "cell_type": "code",
   "execution_count": null,
   "metadata": {},
   "outputs": [],
   "source": []
  },
  {
   "cell_type": "code",
   "execution_count": 48,
   "metadata": {},
   "outputs": [
    {
     "data": {
      "text/plain": [
       "'python\\nfirst_addend = 23\\nsecond_addend = first_addend + 12\\n\\nsum = first_addend + second_addend\\n\\nanswers = {\\n    \"A\": 35,\\n    \"B\": 47,\\n    \"C\": 11,\\n    \"D\": 58\\n}\\nif sum == answers[\"A\"]:\\n    answer = \"A\"\\nelif sum == answers[\"B\"]:\\n    answer = \"B\"\\nelif sum == answers[\"C\"]:\\n    answer = \"C\"\\nelif sum == answers[\"D\"]:\\n    answer = \"D\"\\nelse:\\n    answer = \"No answer\"\\n\\nprint(answer)\\n'"
      ]
     },
     "execution_count": 48,
     "metadata": {},
     "output_type": "execute_result"
    }
   ],
   "source": [
    "code"
   ]
  },
  {
   "cell_type": "code",
   "execution_count": 212,
   "metadata": {},
   "outputs": [
    {
     "name": "stdout",
     "output_type": "stream",
     "text": [
      "8 dm2 24 cm2 = ……… dm2. Số thích hợp điền vào chỗ chấm là\n"
     ]
    }
   ],
   "source": [
    "print(original_data[\"data\"][1][\"question\"][:-1])"
   ]
  },
  {
   "cell_type": "code",
   "execution_count": 188,
   "metadata": {},
   "outputs": [
    {
     "data": {
      "text/plain": [
       "'Một người bán hàng bỏ ra 80,000 đồng tiền vốn và bị lỗ 6%. Để tính số tiền lỗ ta phải tính?\\nA. 80,000 : 6\\nB. 80,000 x 6\\nC. 80,000 : (6 x 100)\\nD. (80,000 x 6) : 100\\n'"
      ]
     },
     "execution_count": 188,
     "metadata": {},
     "output_type": "execute_result"
    }
   ],
   "source": [
    "code_data[0][\"question\"]"
   ]
  },
  {
   "cell_type": "code",
   "execution_count": 82,
   "metadata": {},
   "outputs": [
    {
     "name": "stdout",
     "output_type": "stream",
     "text": [
      "I will try to write a Python code based on your plan. Here is what I came up with:\n",
      "\n",
      "```python\n",
      "initial_capital = 80000\n",
      "loss_percentage = 6 / 100\n",
      "\n",
      "loss = initial_capital * loss_percentage\n",
      "\n",
      "answers = {\n",
      "    \"A\": 80000 / 6,\n",
      "    \"B\": 80000 * 6,\n",
      "    \"C\": 80000 / (6 * 100),\n",
      "    \"D\": (80000 * 6) / 100\n",
      "}\n",
      "if loss == answers[\"A\"]:\n",
      "    answer = \"A\"\n",
      "elif loss == answers[\"B\"]:\n",
      "    answer = \"B\"\n",
      "elif loss == answers[\"C\"]:\n",
      "    answer = \"C\"\n",
      "elif loss == answers[\"D\"]:\n",
      "    answer = \"D\"\n",
      "else:\n",
      "    answer = \"No answer\"\n",
      "\n",
      "print(answer)\n",
      "```\n",
      "\n",
      "The result of running this code is **D**. This means that the correct answer to the multiple-choices problem is **D**. To calculate the loss amount, we have to multiply the initial capital amount by the loss percentage and divide by 100. This is equivalent to `(80,000 x 6) : 100`.\n"
     ]
    }
   ],
   "source": [
    "print(line[\"code\"])"
   ]
  },
  {
   "cell_type": "code",
   "execution_count": 7,
   "metadata": {},
   "outputs": [],
   "source": [
    "c = \"\"\"\n",
    "a = 20.5\n",
    "b = 19.6\n",
    "\n",
    "loss = a - b\n",
    "\n",
    "answers = {\n",
    "    \"A\": 0.9,\n",
    "    \"B\": 1,\n",
    "    \"C\": 1.1,\n",
    "    \"D\": 0.5\n",
    "}\n",
    "if loss== answers[\"A\"]:\n",
    "    answer = \"A\"\n",
    "elif loss == answers[\"B\"]:\n",
    "    answer = \"B\"\n",
    "elif loss == answers[\"C\"]:\n",
    "    answer = \"C\"\n",
    "elif loss == answers[\"D\"]:\n",
    "    answer = \"D\"\n",
    "else:\n",
    "    answer = \"No answer\"\n",
    "\n",
    "print(answer)\n",
    "\"\"\""
   ]
  },
  {
   "cell_type": "code",
   "execution_count": 174,
   "metadata": {},
   "outputs": [],
   "source": [
    "if executor.apply(c)[0] == \"No answer\\n\":\n",
    "    new_c = fix_rounding_error(c)\n",
    "    answer = executor.apply(new_c)[0]"
   ]
  },
  {
   "cell_type": "code",
   "execution_count": 175,
   "metadata": {},
   "outputs": [
    {
     "data": {
      "text/plain": [
       "'A\\n'"
      ]
     },
     "execution_count": 175,
     "metadata": {},
     "output_type": "execute_result"
    }
   ],
   "source": [
    "answer"
   ]
  },
  {
   "cell_type": "code",
   "execution_count": null,
   "metadata": {},
   "outputs": [],
   "source": []
  },
  {
   "cell_type": "code",
   "execution_count": null,
   "metadata": {},
   "outputs": [],
   "source": []
  },
  {
   "cell_type": "code",
   "execution_count": null,
   "metadata": {},
   "outputs": [],
   "source": []
  },
  {
   "cell_type": "code",
   "execution_count": 166,
   "metadata": {},
   "outputs": [],
   "source": [
    "def is_float(string: str):\n",
    "    try:\n",
    "        float(string)\n",
    "        return True\n",
    "    except ValueError:\n",
    "        return False\n",
    "\n",
    "comparisons = comparison_pattern.findall(c)\n",
    "answer_variable = comparisons[0].split(\"==\")[0]\n",
    "new_c = c + f\"\\nprint({answer_variable})\"\n",
    "answer_value = executor.apply(new_c)[0]\n",
    "if is_float(answer_value):\n",
    "    for comparison in comparisons:\n",
    "        choice_variable = comparison.split(\"==\")[-1]\n",
    "        str_to_replace = f\"abs({answer_variable}-{choice_variable}) < 1e-8\"\n",
    "        c = c.replace(comparison, str_to_replace)"
   ]
  },
  {
   "cell_type": "code",
   "execution_count": 167,
   "metadata": {},
   "outputs": [
    {
     "name": "stdout",
     "output_type": "stream",
     "text": [
      "\n",
      "a = 20.5\n",
      "b = 19.6\n",
      "\n",
      "loss = a - b\n",
      "\n",
      "answers = {\n",
      "    \"A\": 0.9,\n",
      "    \"B\": 1,\n",
      "    \"C\": 1.1,\n",
      "    \"D\": 0.5\n",
      "}\n",
      "if abs(loss- answers[\"A\"]) < 1e-8:\n",
      "    answer = \"A\"\n",
      "elif abs(loss- answers[\"B\"]) < 1e-8:\n",
      "    answer = \"B\"\n",
      "elif abs(loss- answers[\"C\"]) < 1e-8:\n",
      "    answer = \"C\"\n",
      "elif abs(loss- answers[\"D\"]) < 1e-8:\n",
      "    answer = \"D\"\n",
      "else:\n",
      "    answer = \"No answer\"\n",
      "\n",
      "print(answer)\n",
      "\n"
     ]
    }
   ],
   "source": [
    "print(c)"
   ]
  },
  {
   "cell_type": "code",
   "execution_count": 168,
   "metadata": {},
   "outputs": [
    {
     "data": {
      "text/plain": [
       "'A\\n'"
      ]
     },
     "execution_count": 168,
     "metadata": {},
     "output_type": "execute_result"
    }
   ],
   "source": [
    "executor.apply(c)[0]"
   ]
  },
  {
   "cell_type": "code",
   "execution_count": 141,
   "metadata": {},
   "outputs": [
    {
     "data": {
      "text/plain": [
       "['loss == answers[\"A\"]',\n",
       " 'loss == answers[\"B\"]',\n",
       " 'loss == answers[\"C\"]',\n",
       " 'loss == answers[\"D\"]']"
      ]
     },
     "execution_count": 141,
     "metadata": {},
     "output_type": "execute_result"
    }
   ],
   "source": [
    "comparisons"
   ]
  },
  {
   "cell_type": "code",
   "execution_count": 152,
   "metadata": {},
   "outputs": [],
   "source": [
    "a = 20.5\n",
    "b = 19.6\n",
    "\n",
    "loss = a - b"
   ]
  },
  {
   "cell_type": "code",
   "execution_count": 153,
   "metadata": {},
   "outputs": [
    {
     "data": {
      "text/plain": [
       "0.8999999999999986"
      ]
     },
     "execution_count": 153,
     "metadata": {},
     "output_type": "execute_result"
    }
   ],
   "source": [
    "loss"
   ]
  },
  {
   "cell_type": "code",
   "execution_count": null,
   "metadata": {},
   "outputs": [],
   "source": []
  }
 ],
 "metadata": {
  "kernelspec": {
   "display_name": "zac2023",
   "language": "python",
   "name": "python3"
  },
  "language_info": {
   "codemirror_mode": {
    "name": "ipython",
    "version": 3
   },
   "file_extension": ".py",
   "mimetype": "text/x-python",
   "name": "python",
   "nbconvert_exporter": "python",
   "pygments_lexer": "ipython3",
   "version": "3.10.13"
  }
 },
 "nbformat": 4,
 "nbformat_minor": 2
}
