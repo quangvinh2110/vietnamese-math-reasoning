{
 "cells": [
  {
   "cell_type": "code",
   "execution_count": 20,
   "metadata": {},
   "outputs": [],
   "source": [
    "import json \n",
    "import unicodedata\n",
    "\n",
    "def normalize(s: str):\n",
    "    return unicodedata.normalize(\"NFC\", s)\n",
    "\n",
    "f = open(\"./data/GSM8K/train.jsonl\", \"r\")\n",
    "data = []\n",
    "for line in f:\n",
    "    line = json.loads(line)\n",
    "    line[\"question\"] = normalize(line[\"question\"])\n",
    "    answer = normalize(line[\"answer\"]).split(\"####\")[-1]\n",
    "    line[\"answer\"] = float(answer.replace(\",\", \"\").strip())\n",
    "    data.append(line)\n",
    "\n",
    "f.close()"
   ]
  },
  {
   "cell_type": "code",
   "execution_count": 21,
   "metadata": {},
   "outputs": [
    {
     "data": {
      "text/plain": [
       "7473"
      ]
     },
     "execution_count": 21,
     "metadata": {},
     "output_type": "execute_result"
    }
   ],
   "source": [
    "len(data)"
   ]
  },
  {
   "cell_type": "code",
   "execution_count": 22,
   "metadata": {},
   "outputs": [],
   "source": [
    "f = open(\"./data/GSM8K/gsm6k_code.jsonl\", \"r\")\n",
    "code_data = []\n",
    "for line in f:\n",
    "    line = json.loads(line)\n",
    "    line[\"question\"] = normalize(line[\"question\"])\n",
    "    code_data.append(line)\n",
    "\n",
    "f.close()\n",
    "\n",
    "f = open(\"./data/GSM8K/gsm3k_code.jsonl\", \"r\")\n",
    "for line in f:\n",
    "    line = json.loads(line)\n",
    "    line[\"question\"] = normalize(line[\"question\"])\n",
    "    code_data.append(line)\n",
    "\n",
    "f.close()\n"
   ]
  },
  {
   "cell_type": "code",
   "execution_count": 23,
   "metadata": {},
   "outputs": [
    {
     "data": {
      "text/plain": [
       "8929"
      ]
     },
     "execution_count": 23,
     "metadata": {},
     "output_type": "execute_result"
    }
   ],
   "source": [
    "len(code_data)"
   ]
  },
  {
   "cell_type": "code",
   "execution_count": 18,
   "metadata": {},
   "outputs": [
    {
     "data": {
      "text/plain": [
       "8929"
      ]
     },
     "execution_count": 18,
     "metadata": {},
     "output_type": "execute_result"
    }
   ],
   "source": [
    "final_data = []\n",
    "for s1 in code_data:\n",
    "    new_sample = {\n",
    "        \"question\": s1[\"question\"],\n",
    "        \"instruction\": s1[\"instruction\"],\n",
    "        \"code\": s1[\"code\"],\n",
    "        \"answer\": None\n",
    "    }\n",
    "    for s2 in data:\n",
    "        if s1[\"question\"] == s2[\"question\"]:\n",
    "            new_sample[\"answer\"] = s2[\"answer\"]\n",
    "            break "
   ]
  },
  {
   "cell_type": "code",
   "execution_count": null,
   "metadata": {},
   "outputs": [],
   "source": []
  },
  {
   "cell_type": "code",
   "execution_count": null,
   "metadata": {},
   "outputs": [],
   "source": []
  },
  {
   "cell_type": "code",
   "execution_count": 15,
   "metadata": {},
   "outputs": [],
   "source": [
    "from src.utils.python_executor import PythonExecutor"
   ]
  },
  {
   "cell_type": "code",
   "execution_count": 14,
   "metadata": {},
   "outputs": [
    {
     "data": {
      "text/plain": [
       "True"
      ]
     },
     "execution_count": 14,
     "metadata": {},
     "output_type": "execute_result"
    }
   ],
   "source": [
    "12.3 - 10.2 - 2.1 < 1e-5"
   ]
  },
  {
   "cell_type": "code",
   "execution_count": null,
   "metadata": {},
   "outputs": [],
   "source": []
  }
 ],
 "metadata": {
  "kernelspec": {
   "display_name": "zac2023",
   "language": "python",
   "name": "python3"
  },
  "language_info": {
   "codemirror_mode": {
    "name": "ipython",
    "version": 3
   },
   "file_extension": ".py",
   "mimetype": "text/x-python",
   "name": "python",
   "nbconvert_exporter": "python",
   "pygments_lexer": "ipython3",
   "version": "3.10.13"
  }
 },
 "nbformat": 4,
 "nbformat_minor": 2
}
